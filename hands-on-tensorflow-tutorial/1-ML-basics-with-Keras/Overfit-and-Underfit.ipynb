{
 "cells": [
  {
   "cell_type": "code",
   "execution_count": 34,
   "metadata": {},
   "outputs": [],
   "source": [
    "import pathlib\n",
    "import shutil\n",
    "import tempfile\n",
    "\n",
    "import tensorflow as tf\n",
    "from tensorflow import keras\n",
    "\n",
    "import tensorflow_docs as tfdocs\n",
    "import tensorflow_docs.modeling\n",
    "import tensorflow_docs.plots"
   ]
  },
  {
   "cell_type": "code",
   "execution_count": 8,
   "metadata": {},
   "outputs": [],
   "source": [
    "logdir = pathlib.Path(tempfile.mkdtemp())/\"tensorboard_logs\"\n",
    "shutil.rmtree(logdir, ignore_errors=True)"
   ]
  },
  {
   "cell_type": "code",
   "execution_count": 9,
   "metadata": {},
   "outputs": [
    {
     "name": "stdout",
     "output_type": "stream",
     "text": [
      "Downloading data from http://mlphysics.ics.uci.edu/data/higgs/HIGGS.csv.gz\n",
      "2816409600/2816407858 [==============================] - 60s 0us/step \n"
     ]
    }
   ],
   "source": [
    "gz = keras.utils.get_file('HIGGS.csv.gz', 'http://mlphysics.ics.uci.edu/data/higgs/HIGGS.csv.gz')"
   ]
  },
  {
   "cell_type": "code",
   "execution_count": 10,
   "metadata": {},
   "outputs": [],
   "source": [
    "FEATURES = 28"
   ]
  },
  {
   "cell_type": "code",
   "execution_count": 49,
   "metadata": {},
   "outputs": [],
   "source": [
    "ds = tf.data.experimental.CsvDataset(\n",
    "    filenames=gz,\n",
    "    record_defaults=[float(), ] * (FEATURES + 1), # float() is 0.0\n",
    "    compression_type='GZIP'\n",
    ")"
   ]
  },
  {
   "cell_type": "code",
   "execution_count": 50,
   "metadata": {},
   "outputs": [],
   "source": [
    "def pack_row(*row):\n",
    "    # The input is list of all features\n",
    "    label = row[0]\n",
    "    # Stack all features for one sample\n",
    "    features = tf.stack(row[1:], axis=1)\n",
    "    return features, label"
   ]
  },
  {
   "cell_type": "code",
   "execution_count": 72,
   "metadata": {},
   "outputs": [],
   "source": [
    "packed_ds = ds.batch(10000).map(pack_row).unbatch()"
   ]
  },
  {
   "cell_type": "code",
   "execution_count": 73,
   "metadata": {},
   "outputs": [],
   "source": [
    "N_VALIDATION = int(1e3)\n",
    "N_TRAIN = int(1e4)\n",
    "BUFFER_SIZE = int(1e4)\n",
    "BATCH_SIZE = 500\n",
    "STEPS_PER_EPOCH = N_TRAIN // BATCH_SIZE"
   ]
  },
  {
   "cell_type": "code",
   "execution_count": 81,
   "metadata": {},
   "outputs": [],
   "source": [
    "validate_ds = packed_ds.take(N_VALIDATION).cache().batch(BATCH_SIZE)\n",
    "train_ds = packed_ds.skip(N_VALIDATION).take(N_TRAIN).cache().repeat().batch(BATCH_SIZE)"
   ]
  },
  {
   "cell_type": "code",
   "execution_count": 82,
   "metadata": {},
   "outputs": [],
   "source": [
    "## setup learning rate scheduler\n",
    "lr_schedule = keras.optimizers.schedules.InverseTimeDecay(\n",
    "    initial_learning_rate=0.001,\n",
    "    decay_steps=STEPS_PER_EPOCH * 1000, # every 1000 epoch\n",
    "    decay_rate=1,\n",
    "    staircase=False\n",
    ")"
   ]
  },
  {
   "cell_type": "code",
   "execution_count": 83,
   "metadata": {},
   "outputs": [],
   "source": [
    "def get_callbacks(name):\n",
    "    return [\n",
    "        tfdocs.modeling.EpochDots(),\n",
    "        keras.callbacks.EarlyStopping(monitor='val_binary_crossentropy', patience=200),\n",
    "        keras.callbacks.TensorBoard(logdir/name)\n",
    "    ]"
   ]
  },
  {
   "cell_type": "code",
   "execution_count": 84,
   "metadata": {},
   "outputs": [],
   "source": [
    "model = keras.Sequential([\n",
    "    keras.layers.Dense(16, activation='elu', input_shape=[FEATURES,]),\n",
    "    keras.layers.Dense(1)\n",
    "])"
   ]
  },
  {
   "cell_type": "code",
   "execution_count": 85,
   "metadata": {},
   "outputs": [],
   "source": [
    "model.compile(\n",
    "    optimizer=keras.optimizers.Adam(lr_schedule),\n",
    "    loss=keras.losses.BinaryCrossentropy(from_logits=True),\n",
    "    metrics=[\n",
    "        tf.keras.metrics.BinaryCrossentropy(from_logits=True, name='binary_crossentropy'),\n",
    "        'accuracy'\n",
    "    ]\n",
    ")"
   ]
  },
  {
   "cell_type": "code",
   "execution_count": 86,
   "metadata": {
    "scrolled": false
   },
   "outputs": [
    {
     "name": "stdout",
     "output_type": "stream",
     "text": [
      "\n",
      "Epoch: 0, accuracy:0.5031,  binary_crossentropy:0.8075,  loss:0.8075,  val_accuracy:0.4880,  val_binary_crossentropy:0.7786,  val_loss:0.7786,  \n",
      "....................................................................................................\n",
      "Epoch: 100, accuracy:0.6000,  binary_crossentropy:0.6275,  loss:0.6275,  val_accuracy:0.5760,  val_binary_crossentropy:0.6264,  val_loss:0.6264,  \n",
      "....................................................................................................\n",
      "Epoch: 200, accuracy:0.6212,  binary_crossentropy:0.6141,  loss:0.6141,  val_accuracy:0.6050,  val_binary_crossentropy:0.6132,  val_loss:0.6132,  \n",
      "....................................................................................................\n",
      "Epoch: 300, accuracy:0.6436,  binary_crossentropy:0.6045,  loss:0.6045,  val_accuracy:0.6180,  val_binary_crossentropy:0.6053,  val_loss:0.6053,  \n",
      "....................................................................................................\n",
      "Epoch: 400, accuracy:0.6582,  binary_crossentropy:0.5975,  loss:0.5975,  val_accuracy:0.6390,  val_binary_crossentropy:0.6021,  val_loss:0.6021,  \n",
      "....................................................................................................\n",
      "Epoch: 500, accuracy:0.6611,  binary_crossentropy:0.5927,  loss:0.5927,  val_accuracy:0.6500,  val_binary_crossentropy:0.6016,  val_loss:0.6016,  \n",
      "....................................................................................................\n",
      "Epoch: 600, accuracy:0.6653,  binary_crossentropy:0.5893,  loss:0.5893,  val_accuracy:0.6440,  val_binary_crossentropy:0.6014,  val_loss:0.6014,  \n",
      "....................................................................................................\n",
      "Epoch: 700, accuracy:0.6698,  binary_crossentropy:0.5869,  loss:0.5869,  val_accuracy:0.6450,  val_binary_crossentropy:0.6014,  val_loss:0.6014,  \n",
      "....................................................................................................\n",
      "Epoch: 800, accuracy:0.6714,  binary_crossentropy:0.5850,  loss:0.5850,  val_accuracy:0.6440,  val_binary_crossentropy:0.6014,  val_loss:0.6014,  \n",
      "....................................................................................................\n",
      "Epoch: 900, accuracy:0.6728,  binary_crossentropy:0.5835,  loss:0.5835,  val_accuracy:0.6440,  val_binary_crossentropy:0.6014,  val_loss:0.6014,  \n",
      "....................................................................................................\n",
      "Epoch: 1000, accuracy:0.6737,  binary_crossentropy:0.5822,  loss:0.5822,  val_accuracy:0.6490,  val_binary_crossentropy:0.6014,  val_loss:0.6014,  \n",
      "....................................."
     ]
    },
    {
     "data": {
      "text/plain": [
       "<tensorflow.python.keras.callbacks.History at 0x7f25b8018e50>"
      ]
     },
     "execution_count": 86,
     "metadata": {},
     "output_type": "execute_result"
    }
   ],
   "source": [
    "model.fit(\n",
    "    train_ds,\n",
    "    steps_per_epoch=STEPS_PER_EPOCH,\n",
    "    epochs=10000,\n",
    "    validation_data=validate_ds,\n",
    "    callbacks=get_callbacks('model_name'),\n",
    "    verbose=0\n",
    ")"
   ]
  },
  {
   "cell_type": "code",
   "execution_count": 91,
   "metadata": {},
   "outputs": [],
   "source": [
    "histories = {'history': model.history}"
   ]
  },
  {
   "cell_type": "code",
   "execution_count": 92,
   "metadata": {},
   "outputs": [
    {
     "data": {
      "image/png": "[encoded data removed]",
      "text/plain": [
       "<Figure size 432x288 with 1 Axes>"
      ]
     },
     "metadata": {
      "needs_background": "light"
     },
     "output_type": "display_data"
    }
   ],
   "source": [
    "plotter = tfdocs.plots.HistoryPlotter(metric='binary_crossentropy', smoothing_std=10)\n",
    "plotter.plot(histories)"
   ]
  }
 ],
 "metadata": {
  "kernelspec": {
   "display_name": "Python 3",
   "language": "python",
   "name": "python3"
  },
  "language_info": {
   "codemirror_mode": {
    "name": "ipython",
    "version": 3
   },
   "file_extension": ".py",
   "mimetype": "text/x-python",
   "name": "python",
   "nbconvert_exporter": "python",
   "pygments_lexer": "ipython3",
   "version": "3.7.6"
  }
 },
 "nbformat": 4,
 "nbformat_minor": 4
}
