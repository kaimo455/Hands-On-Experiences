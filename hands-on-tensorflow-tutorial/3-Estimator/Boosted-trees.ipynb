{
 "cells": [
  {
   "cell_type": "code",
   "execution_count": 30,
   "metadata": {},
   "outputs": [],
   "source": [
    "import tensorflow as tf\n",
    "import pandas as pd\n",
    "\n",
    "from IPython.display import clear_output"
   ]
  },
  {
   "cell_type": "markdown",
   "metadata": {},
   "source": [
    "## Load the titanic dataset"
   ]
  },
  {
   "cell_type": "code",
   "execution_count": 2,
   "metadata": {},
   "outputs": [],
   "source": [
    "train_df = pd.read_csv('https://storage.googleapis.com/tf-datasets/titanic/train.csv')\n",
    "eval_df = pd.read_csv('https://storage.googleapis.com/tf-datasets/titanic/eval.csv')\n",
    "train_y = train_df.pop('survived')\n",
    "eval_y = eval_df.pop('survived')"
   ]
  },
  {
   "cell_type": "code",
   "execution_count": 3,
   "metadata": {},
   "outputs": [],
   "source": [
    "tf.random.set_seed(123)"
   ]
  },
  {
   "cell_type": "markdown",
   "metadata": {},
   "source": [
    "## Create feature columns and input functions"
   ]
  },
  {
   "cell_type": "markdown",
   "metadata": {},
   "source": [
    "__NOTE__:\n",
    "\n",
    "`categorical_column_with_vocabulary_list` is used to transform `string` to `numeric` that represents different unique values. E.g. ['cat', 'dog', ...] to [1, 2, ...]\n",
    "\n",
    "`indicator_column` is used to transform the `numberic` values to one-hot encoding `Dense` values."
   ]
  },
  {
   "cell_type": "code",
   "execution_count": 4,
   "metadata": {},
   "outputs": [],
   "source": [
    "CATEGORICAL_COLUMNS = ['sex', 'n_siblings_spouses', 'parch', 'class', 'deck',\n",
    "                       'embark_town', 'alone']\n",
    "NUMERIC_COLUMNS = ['age', 'fare']\n",
    "\n",
    "def one_hot_cat_columns(feature_name, vocab):\n",
    "    return tf.feature_column.indicator_column(\n",
    "        tf.feature_column.categorical_column_with_vocabulary_list(\n",
    "            key=feature_name, vocabulary_list=vocab\n",
    "        )\n",
    "    )\n",
    "\n",
    "feature_columns = []\n",
    "for feature_name in CATEGORICAL_COLUMNS:\n",
    "    vocab = train_df[feature_name].unique()\n",
    "    feature_columns.append(one_hot_cat_columns(feature_name, vocab))\n",
    "    \n",
    "for feature_name in NUMERIC_COLUMNS:\n",
    "    feature_columns.append(tf.feature_column.numeric_column(feature_name, dtype=tf.float32))"
   ]
  },
  {
   "cell_type": "code",
   "execution_count": 27,
   "metadata": {},
   "outputs": [
    {
     "name": "stdout",
     "output_type": "stream",
     "text": [
      "Feature value: \"Third\"\n",
      "One-hot encoded:  [[0. 0. 1.]]\n"
     ]
    }
   ],
   "source": [
    "# View the transformation\n",
    "example = dict(train_df.head(1))\n",
    "class_fc = tf.feature_column.indicator_column(tf.feature_column.categorical_column_with_vocabulary_list('class', ('First', 'Second', 'Third')))\n",
    "print('Feature value: \"{}\"'.format(example['class'].iloc[0]))\n",
    "print('One-hot encoded: ', tf.keras.layers.DenseFeatures([class_fc])(example).numpy())"
   ]
  },
  {
   "cell_type": "code",
   "execution_count": 29,
   "metadata": {},
   "outputs": [],
   "source": [
    "NUM_EXAMPLES = len(train_y)\n",
    "\n",
    "def make_input_fn(X, y, num_epochs=None, shuffle=True):\n",
    "    \n",
    "    def input_fn():\n",
    "        dataset = tf.data.Dataset.from_tensor_slices((X.to_dict('list'), y))\n",
    "        if shuffle:\n",
    "            dataset = dataset.shuffle(NUM_EXAMPLES)\n",
    "        \n",
    "        # For training, cycle the through dataset as many times as need (n_epoch=None).\n",
    "        dataset = dataset.repeat(num_epochs)\n",
    "        # In memory training doesn't batching.\n",
    "        dataset = dataset.batch(NUM_EXAMPLES)\n",
    "        return dataset\n",
    "        \n",
    "    return input_fn\n",
    "\n",
    "train_input_fn = make_input_fn(train_df, train_y)\n",
    "eval_input_fn = make_input_fn(eval_df, eval_y, num_epochs=1, shuffle=False)"
   ]
  },
  {
   "cell_type": "markdown",
   "metadata": {},
   "source": [
    "## Train and evaluate the model"
   ]
  },
  {
   "cell_type": "code",
   "execution_count": 35,
   "metadata": {},
   "outputs": [],
   "source": [
    "n_batches = 1\n",
    "est = tf.estimator.BoostedTreesClassifier(\n",
    "    feature_columns=feature_columns,\n",
    "    n_batches_per_layer=n_batches,\n",
    "    n_classes=2\n",
    ")\n",
    "clear_output()"
   ]
  },
  {
   "cell_type": "code",
   "execution_count": 36,
   "metadata": {},
   "outputs": [
    {
     "data": {
      "text/plain": [
       "{'accuracy': 0.8181818,\n",
       " 'accuracy_baseline': 0.625,\n",
       " 'auc': 0.86917657,\n",
       " 'auc_precision_recall': 0.8533196,\n",
       " 'average_loss': 0.41656974,\n",
       " 'label/mean': 0.375,\n",
       " 'loss': 0.41656974,\n",
       " 'precision': 0.7802198,\n",
       " 'prediction/mean': 0.3715717,\n",
       " 'recall': 0.7171717,\n",
       " 'global_step': 100}"
      ]
     },
     "execution_count": 36,
     "metadata": {},
     "output_type": "execute_result"
    }
   ],
   "source": [
    "est.train(input_fn=train_input_fn, max_steps=100)\n",
    "\n",
    "result = est.evaluate(input_fn=eval_input_fn)\n",
    "clear_output()\n",
    "result"
   ]
  }
 ],
 "metadata": {
  "kernelspec": {
   "display_name": "Python 3",
   "language": "python",
   "name": "python3"
  },
  "language_info": {
   "codemirror_mode": {
    "name": "ipython",
    "version": 3
   },
   "file_extension": ".py",
   "mimetype": "text/x-python",
   "name": "python",
   "nbconvert_exporter": "python",
   "pygments_lexer": "ipython3",
   "version": "3.7.6"
  }
 },
 "nbformat": 4,
 "nbformat_minor": 4
}
