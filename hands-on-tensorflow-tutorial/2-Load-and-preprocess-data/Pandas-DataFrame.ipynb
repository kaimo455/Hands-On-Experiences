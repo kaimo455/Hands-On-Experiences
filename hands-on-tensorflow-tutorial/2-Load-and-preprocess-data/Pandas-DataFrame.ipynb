{
 "cells": [
  {
   "cell_type": "code",
   "execution_count": 1,
   "metadata": {},
   "outputs": [],
   "source": [
    "import pandas as pd\n",
    "import tensorflow as tf"
   ]
  },
  {
   "cell_type": "code",
   "execution_count": 2,
   "metadata": {},
   "outputs": [
    {
     "name": "stdout",
     "output_type": "stream",
     "text": [
      "Downloading data from https://storage.googleapis.com/applied-dl/heart.csv\n",
      "16384/13273 [=====================================] - 0s 0us/step\n"
     ]
    }
   ],
   "source": [
    "csv_file = tf.keras.utils.get_file('heart.csv', 'https://storage.googleapis.com/applied-dl/heart.csv')"
   ]
  },
  {
   "cell_type": "code",
   "execution_count": 4,
   "metadata": {},
   "outputs": [],
   "source": [
    "df = pd.read_csv(csv_file)"
   ]
  },
  {
   "cell_type": "code",
   "execution_count": 11,
   "metadata": {},
   "outputs": [],
   "source": [
    "# one-hot encoding for categorical features\n",
    "df['thal'] = pd.Categorical(df['thal'])\n",
    "df['thal'] = df.thal.cat.codes"
   ]
  },
  {
   "cell_type": "code",
   "execution_count": 12,
   "metadata": {},
   "outputs": [],
   "source": [
    "target = df.pop('target')"
   ]
  },
  {
   "cell_type": "markdown",
   "metadata": {},
   "source": [
    "## Load data using tf.data.Dataset"
   ]
  },
  {
   "cell_type": "code",
   "execution_count": 13,
   "metadata": {},
   "outputs": [],
   "source": [
    "dataset = tf.data.Dataset.from_tensor_slices((df.values, target.values))"
   ]
  },
  {
   "cell_type": "code",
   "execution_count": 14,
   "metadata": {},
   "outputs": [],
   "source": [
    "train_dataset = dataset.shuffle(len(df)).batch(32)"
   ]
  },
  {
   "cell_type": "code",
   "execution_count": 15,
   "metadata": {},
   "outputs": [],
   "source": [
    "# Create model\n",
    "model = tf.keras.Sequential([\n",
    "    tf.keras.layers.Dense(10, activation='relu'),\n",
    "    tf.keras.layers.Dense(10, activation='relu'),\n",
    "    tf.keras.layers.Dense(1)\n",
    "])\n",
    "model.compile(\n",
    "    optimizer='adam',\n",
    "    loss=tf.keras.losses.BinaryCrossentropy(from_logits=True),\n",
    "    metrics=['accuracy']\n",
    ")"
   ]
  },
  {
   "cell_type": "code",
   "execution_count": 16,
   "metadata": {},
   "outputs": [
    {
     "data": {
      "text/plain": [
       "<tensorflow.python.keras.callbacks.History at 0x7fbdc7ed39d0>"
      ]
     },
     "execution_count": 16,
     "metadata": {},
     "output_type": "execute_result"
    }
   ],
   "source": [
    "model.fit(train_dataset, epochs=15, verbose=0)"
   ]
  },
  {
   "cell_type": "markdown",
   "metadata": {},
   "source": [
    "## Alternative to feature columns"
   ]
  },
  {
   "cell_type": "markdown",
   "metadata": {},
   "source": [
    "Passing a dictionary as an input to a model is as easy as creating a matching dictionary of `tf.keras.layers.Input` layers, applying any pre-processing and stacking them up using the `functional api`. You can use this as an alternative to feature columns."
   ]
  },
  {
   "cell_type": "code",
   "execution_count": 18,
   "metadata": {},
   "outputs": [],
   "source": [
    "# First define the inputs\n",
    "inputs = {key: tf.keras.Input(shape=(), name=key) for key in df.keys()}"
   ]
  },
  {
   "cell_type": "code",
   "execution_count": 19,
   "metadata": {},
   "outputs": [
    {
     "data": {
      "text/plain": [
       "{'age': <tf.Tensor 'age:0' shape=(None,) dtype=float32>,\n",
       " 'sex': <tf.Tensor 'sex:0' shape=(None,) dtype=float32>,\n",
       " 'cp': <tf.Tensor 'cp:0' shape=(None,) dtype=float32>,\n",
       " 'trestbps': <tf.Tensor 'trestbps:0' shape=(None,) dtype=float32>,\n",
       " 'chol': <tf.Tensor 'chol:0' shape=(None,) dtype=float32>,\n",
       " 'fbs': <tf.Tensor 'fbs:0' shape=(None,) dtype=float32>,\n",
       " 'restecg': <tf.Tensor 'restecg:0' shape=(None,) dtype=float32>,\n",
       " 'thalach': <tf.Tensor 'thalach:0' shape=(None,) dtype=float32>,\n",
       " 'exang': <tf.Tensor 'exang:0' shape=(None,) dtype=float32>,\n",
       " 'oldpeak': <tf.Tensor 'oldpeak:0' shape=(None,) dtype=float32>,\n",
       " 'slope': <tf.Tensor 'slope:0' shape=(None,) dtype=float32>,\n",
       " 'ca': <tf.Tensor 'ca:0' shape=(None,) dtype=float32>,\n",
       " 'thal': <tf.Tensor 'thal:0' shape=(None,) dtype=float32>}"
      ]
     },
     "execution_count": 19,
     "metadata": {},
     "output_type": "execute_result"
    }
   ],
   "source": [
    "inputs"
   ]
  },
  {
   "cell_type": "code",
   "execution_count": 24,
   "metadata": {},
   "outputs": [],
   "source": [
    "# >>> tf.stack(list(inputs.values()), axis=-1)\n",
    "# <tf.Tensor 'stack:0' shape=(None, 13) dtype=float32>"
   ]
  },
  {
   "cell_type": "code",
   "execution_count": 29,
   "metadata": {},
   "outputs": [],
   "source": [
    "# Concatenate all inputs\n",
    "x = tf.stack(list(inputs.values()), axis=-1)\n",
    "output = tf.keras.layers.Dense(1)(x)\n",
    "model = tf.keras.Model(inputs=inputs, outputs=output)"
   ]
  },
  {
   "cell_type": "code",
   "execution_count": 34,
   "metadata": {},
   "outputs": [],
   "source": [
    "model.compile(\n",
    "    optimizer='adam',\n",
    "    loss=tf.keras.losses.BinaryCrossentropy(from_logits=True),\n",
    "    metrics=['accuracy']\n",
    ")"
   ]
  },
  {
   "cell_type": "code",
   "execution_count": 30,
   "metadata": {},
   "outputs": [
    {
     "name": "stdout",
     "output_type": "stream",
     "text": [
      "Model: \"model\"\n",
      "__________________________________________________________________________________________________\n",
      "Layer (type)                    Output Shape         Param #     Connected to                     \n",
      "==================================================================================================\n",
      "age (InputLayer)                [(None,)]            0                                            \n",
      "__________________________________________________________________________________________________\n",
      "sex (InputLayer)                [(None,)]            0                                            \n",
      "__________________________________________________________________________________________________\n",
      "cp (InputLayer)                 [(None,)]            0                                            \n",
      "__________________________________________________________________________________________________\n",
      "trestbps (InputLayer)           [(None,)]            0                                            \n",
      "__________________________________________________________________________________________________\n",
      "chol (InputLayer)               [(None,)]            0                                            \n",
      "__________________________________________________________________________________________________\n",
      "fbs (InputLayer)                [(None,)]            0                                            \n",
      "__________________________________________________________________________________________________\n",
      "restecg (InputLayer)            [(None,)]            0                                            \n",
      "__________________________________________________________________________________________________\n",
      "thalach (InputLayer)            [(None,)]            0                                            \n",
      "__________________________________________________________________________________________________\n",
      "exang (InputLayer)              [(None,)]            0                                            \n",
      "__________________________________________________________________________________________________\n",
      "oldpeak (InputLayer)            [(None,)]            0                                            \n",
      "__________________________________________________________________________________________________\n",
      "slope (InputLayer)              [(None,)]            0                                            \n",
      "__________________________________________________________________________________________________\n",
      "ca (InputLayer)                 [(None,)]            0                                            \n",
      "__________________________________________________________________________________________________\n",
      "thal (InputLayer)               [(None,)]            0                                            \n",
      "__________________________________________________________________________________________________\n",
      "tf_op_layer_stack_3 (TensorFlow [(None, 13)]         0           age[0][0]                        \n",
      "                                                                 sex[0][0]                        \n",
      "                                                                 cp[0][0]                         \n",
      "                                                                 trestbps[0][0]                   \n",
      "                                                                 chol[0][0]                       \n",
      "                                                                 fbs[0][0]                        \n",
      "                                                                 restecg[0][0]                    \n",
      "                                                                 thalach[0][0]                    \n",
      "                                                                 exang[0][0]                      \n",
      "                                                                 oldpeak[0][0]                    \n",
      "                                                                 slope[0][0]                      \n",
      "                                                                 ca[0][0]                         \n",
      "                                                                 thal[0][0]                       \n",
      "__________________________________________________________________________________________________\n",
      "dense_5 (Dense)                 (None, 1)            14          tf_op_layer_stack_3[0][0]        \n",
      "==================================================================================================\n",
      "Total params: 14\n",
      "Trainable params: 14\n",
      "Non-trainable params: 0\n",
      "__________________________________________________________________________________________________\n"
     ]
    }
   ],
   "source": [
    "model.summary()"
   ]
  },
  {
   "cell_type": "code",
   "execution_count": 31,
   "metadata": {},
   "outputs": [],
   "source": [
    "dict_slices = tf.data.Dataset.from_tensor_slices((df.to_dict(orient='list'), target.values)).batch(16)"
   ]
  },
  {
   "cell_type": "code",
   "execution_count": 35,
   "metadata": {},
   "outputs": [
    {
     "name": "stdout",
     "output_type": "stream",
     "text": [
      "Train for 19 steps\n",
      "Epoch 1/15\n",
      "19/19 [==============================] - 0s 20ms/step - loss: 7.5308 - accuracy: 0.6271\n",
      "Epoch 2/15\n",
      "19/19 [==============================] - 0s 4ms/step - loss: 7.0010 - accuracy: 0.5479\n",
      "Epoch 3/15\n",
      "19/19 [==============================] - 0s 4ms/step - loss: 6.8544 - accuracy: 0.5479\n",
      "Epoch 4/15\n",
      "19/19 [==============================] - 0s 4ms/step - loss: 6.7104 - accuracy: 0.5512\n",
      "Epoch 5/15\n",
      "19/19 [==============================] - 0s 4ms/step - loss: 6.5708 - accuracy: 0.5545\n",
      "Epoch 6/15\n",
      "19/19 [==============================] - 0s 4ms/step - loss: 6.4314 - accuracy: 0.5545\n",
      "Epoch 7/15\n",
      "19/19 [==============================] - 0s 4ms/step - loss: 6.2925 - accuracy: 0.5611\n",
      "Epoch 8/15\n",
      "19/19 [==============================] - 0s 4ms/step - loss: 6.1543 - accuracy: 0.5611\n",
      "Epoch 9/15\n",
      "19/19 [==============================] - 0s 4ms/step - loss: 6.0168 - accuracy: 0.5611\n",
      "Epoch 10/15\n",
      "19/19 [==============================] - 0s 4ms/step - loss: 5.8799 - accuracy: 0.5611\n",
      "Epoch 11/15\n",
      "19/19 [==============================] - 0s 4ms/step - loss: 5.7438 - accuracy: 0.5578\n",
      "Epoch 12/15\n",
      "19/19 [==============================] - 0s 4ms/step - loss: 5.6085 - accuracy: 0.5611\n",
      "Epoch 13/15\n",
      "19/19 [==============================] - 0s 3ms/step - loss: 5.4739 - accuracy: 0.5611\n",
      "Epoch 14/15\n",
      "19/19 [==============================] - 0s 4ms/step - loss: 5.3402 - accuracy: 0.5644\n",
      "Epoch 15/15\n",
      "19/19 [==============================] - 0s 4ms/step - loss: 5.2073 - accuracy: 0.5677\n"
     ]
    },
    {
     "data": {
      "text/plain": [
       "<tensorflow.python.keras.callbacks.History at 0x7fb98577bd90>"
      ]
     },
     "execution_count": 35,
     "metadata": {},
     "output_type": "execute_result"
    }
   ],
   "source": [
    "model.fit(dict_slices, epochs=15)"
   ]
  }
 ],
 "metadata": {
  "kernelspec": {
   "display_name": "Python 3",
   "language": "python",
   "name": "python3"
  },
  "language_info": {
   "codemirror_mode": {
    "name": "ipython",
    "version": 3
   },
   "file_extension": ".py",
   "mimetype": "text/x-python",
   "name": "python",
   "nbconvert_exporter": "python",
   "pygments_lexer": "ipython3",
   "version": "3.7.6"
  }
 },
 "nbformat": 4,
 "nbformat_minor": 4
}
