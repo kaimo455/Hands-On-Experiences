{
 "cells": [
  {
   "cell_type": "code",
   "execution_count": 158,
   "metadata": {},
   "outputs": [],
   "source": [
    "import tensorflow as tf\n",
    "import tensorflow_datasets as tfds\n",
    "\n",
    "import io\n",
    "import re\n",
    "import time\n",
    "import pathlib\n",
    "import unicodedata\n",
    "\n",
    "from sklearn.model_selection import train_test_split"
   ]
  },
  {
   "cell_type": "markdown",
   "metadata": {},
   "source": [
    "## Download and prepare the dataset"
   ]
  },
  {
   "cell_type": "code",
   "execution_count": 159,
   "metadata": {},
   "outputs": [],
   "source": [
    "path_to_zip = tf.keras.utils.get_file(fname='spa-eng.zip',\n",
    "                                      origin='http://storage.googleapis.com/download.tensorflow.org/data/spa-eng.zip',\n",
    "                                      extract=True)\n",
    "path_to_zip = pathlib.Path(path_to_zip)\n",
    "\n",
    "path_to_file = path_to_zip.parents[0]/'spa-eng/spa.txt'"
   ]
  },
  {
   "cell_type": "code",
   "execution_count": 160,
   "metadata": {},
   "outputs": [
    {
     "name": "stdout",
     "output_type": "stream",
     "text": [
      "Go.\tVe.\r\n",
      "Go.\tVete.\r\n",
      "Go.\tVaya.\r\n",
      "Go.\tVáyase.\r\n",
      "Hi.\tHola.\r\n",
      "Run!\t¡Corre!\r\n",
      "Run.\tCorred.\r\n",
      "Who?\t¿Quién?\r\n",
      "Fire!\t¡Fuego!\r\n",
      "Fire!\t¡Incendio!\r\n"
     ]
    }
   ],
   "source": [
    "!head {path_to_file}"
   ]
  },
  {
   "cell_type": "code",
   "execution_count": 161,
   "metadata": {},
   "outputs": [],
   "source": [
    "# Converts the unicode file to ascii\n",
    "def unicode_to_ascii(s):\n",
    "    return ''.join(c for c in unicodedata.normalize('NFD', s) if unicodedata.category(c) != 'Mn')"
   ]
  },
  {
   "cell_type": "code",
   "execution_count": 162,
   "metadata": {},
   "outputs": [],
   "source": [
    "# preprocess sentence\n",
    "def preprocess_sentence(s):\n",
    "    s = unicode_to_ascii(s.lower().strip())\n",
    "\n",
    "    # creating a space between a word and the punctuation following it\n",
    "    # eg: \"he is a boy.\" => \"he is a boy .\"\n",
    "    # Reference:- https://stackoverflow.com/questions/3645931/python-padding-punctuation-with-white-spaces-keeping-punctuation\n",
    "    s = re.sub(r\"([?.!,¿])\", r\" \\1 \", s) # \"\\1\" represents the first matched group, used here for seperating punctuation\n",
    "    s = re.sub(r'[\" \"]+', \" \", s)\n",
    "\n",
    "    # replacing everything with space except (a-z, A-Z, \".\", \"?\", \"!\", \",\")\n",
    "    s = re.sub(r\"[^a-zA-Z?.!,¿]+\", \" \", s)\n",
    "\n",
    "    s = s.strip()\n",
    "\n",
    "    # adding a start and an end token to the sentence\n",
    "    # so that the model know when to start and stop predicting.\n",
    "    s = '<start> ' + s + ' <end>'\n",
    "    return s"
   ]
  },
  {
   "cell_type": "code",
   "execution_count": 163,
   "metadata": {},
   "outputs": [
    {
     "name": "stdout",
     "output_type": "stream",
     "text": [
      "<start> may i borrow this book ? <end>\n",
      "b'<start> \\xc2\\xbf puedo tomar prestado este libro ? <end>'\n"
     ]
    }
   ],
   "source": [
    "en_sentence = u\"May I borrow this book?\"\n",
    "sp_sentence = u\"¿Puedo tomar prestado este libro?\"\n",
    "print(preprocess_sentence(en_sentence))\n",
    "print(preprocess_sentence(sp_sentence).encode('utf-8'))"
   ]
  },
  {
   "cell_type": "code",
   "execution_count": 164,
   "metadata": {},
   "outputs": [],
   "source": [
    "# 1. Remove the accents\n",
    "# 2. Clean the sentences\n",
    "# 3. Return word pairs in the format: [ENGLISH, SPANISH]\n",
    "def create_dataset(path, num_examples):\n",
    "    lines = io.open(path, encoding='utf-8').read().strip().split('\\n')\n",
    "    word_pairs = [[preprocess_sentence(s) for s in l.split('\\t')] \n",
    "                  for l in lines[:num_examples]]\n",
    "    return zip(*word_pairs)"
   ]
  },
  {
   "cell_type": "code",
   "execution_count": 165,
   "metadata": {},
   "outputs": [],
   "source": [
    "en, sp = create_dataset(path_to_file, None)"
   ]
  },
  {
   "cell_type": "code",
   "execution_count": 166,
   "metadata": {},
   "outputs": [
    {
     "data": {
      "text/plain": [
       "[('<start> go . <end>', '<start> ve . <end>'),\n",
       " ('<start> go . <end>', '<start> vete . <end>'),\n",
       " ('<start> go . <end>', '<start> vaya . <end>'),\n",
       " ('<start> go . <end>', '<start> vayase . <end>'),\n",
       " ('<start> hi . <end>', '<start> hola . <end>')]"
      ]
     },
     "execution_count": 166,
     "metadata": {},
     "output_type": "execute_result"
    }
   ],
   "source": [
    "list(zip(en[:5], sp[:5]))"
   ]
  },
  {
   "cell_type": "code",
   "execution_count": 167,
   "metadata": {},
   "outputs": [],
   "source": [
    "def tokenize(texts):\n",
    "    lang_tokenizer = tf.keras.preprocessing.text.Tokenizer(filters='')\n",
    "    lang_tokenizer.fit_on_texts(texts)\n",
    "    \n",
    "    tensor = lang_tokenizer.texts_to_sequences(texts)\n",
    "    # Pad to the longest sequence\n",
    "    tensor = tf.keras.preprocessing.sequence.pad_sequences(tensor, padding='post')\n",
    "    return tensor, lang_tokenizer"
   ]
  },
  {
   "cell_type": "code",
   "execution_count": 168,
   "metadata": {},
   "outputs": [],
   "source": [
    "def load_dataset(path, num_examples=None):\n",
    "    # Creating cleaned input, output pairs\n",
    "    targ_lang, inp_lang = create_dataset(path, num_examples)\n",
    "    \n",
    "    input_tensor, inp_lang_tokenizer = tokenize(inp_lang)\n",
    "    target_tensor, targ_lang_tokenizer = tokenize(targ_lang)\n",
    "    \n",
    "    return input_tensor, target_tensor, inp_lang_tokenizer, targ_lang_tokenizer"
   ]
  },
  {
   "cell_type": "code",
   "execution_count": 169,
   "metadata": {},
   "outputs": [],
   "source": [
    "input_tensor, target_tensor, inp_lang_tokenizer, targ_lang_tokenzier = load_dataset(path_to_file, None)\n",
    "# Calculating max_length of the target & input tensors\n",
    "max_length_targ, max_length_inp = target_tensor.shape[1], input_tensor.shape[1]"
   ]
  },
  {
   "cell_type": "code",
   "execution_count": 170,
   "metadata": {},
   "outputs": [
    {
     "name": "stdout",
     "output_type": "stream",
     "text": [
      "95171 23793 95171 23793\n"
     ]
    }
   ],
   "source": [
    "input_tensor_train, input_tensor_val, target_tensor_train, target_tensor_val = train_test_split(input_tensor, target_tensor, test_size=.2)\n",
    "print(len(input_tensor_train), len(input_tensor_val), len(target_tensor_train), len(target_tensor_val))"
   ]
  },
  {
   "cell_type": "code",
   "execution_count": 171,
   "metadata": {},
   "outputs": [],
   "source": [
    "def convert(lang, tensor):\n",
    "    \"\"\"Convert index to word use lang(tokenizer)\"\"\"\n",
    "    for idx in tensor:\n",
    "        if idx != 0:\n",
    "            print(\"{:d} ----> {:s}\".format(idx, lang.index_word[idx]))"
   ]
  },
  {
   "cell_type": "code",
   "execution_count": 172,
   "metadata": {},
   "outputs": [
    {
     "name": "stdout",
     "output_type": "stream",
     "text": [
      "Input Language; index to word mapping\n",
      "1 ----> <start>\n",
      "12 ----> ¿\n",
      "79 ----> quien\n",
      "14 ----> es\n",
      "10 ----> la\n",
      "233 ----> persona\n",
      "34 ----> mas\n",
      "170 ----> sabia\n",
      "4 ----> que\n",
      "781 ----> conoces\n",
      "11 ----> ?\n",
      "2 ----> <end>\n",
      "\n",
      "Target Language; index to word mapping\n",
      "1 ----> <start>\n",
      "80 ----> who\n",
      "11 ----> is\n",
      "5 ----> the\n",
      "10433 ----> wisest\n",
      "279 ----> person\n",
      "7 ----> you\n",
      "45 ----> know\n",
      "10 ----> ?\n",
      "2 ----> <end>\n"
     ]
    }
   ],
   "source": [
    "print (\"Input Language; index to word mapping\")\n",
    "convert(inp_lang_tokenizer, input_tensor_train[0])\n",
    "print ()\n",
    "print (\"Target Language; index to word mapping\")\n",
    "convert(targ_lang_tokenzier, target_tensor_train[0])"
   ]
  },
  {
   "cell_type": "markdown",
   "metadata": {},
   "source": [
    "### Create a tf.data dataset"
   ]
  },
  {
   "cell_type": "code",
   "execution_count": 173,
   "metadata": {},
   "outputs": [],
   "source": [
    "BUFFER_SIZE = len(input_tensor_train)\n",
    "BATCH_SIZE = 64\n",
    "steps_per_epoch = len(input_tensor_train) // BATCH_SIZE\n",
    "embedding_dim = 256\n",
    "units = 1024\n",
    "vocab_inp_size = len(inp_lang_tokenizer.word_index) + 1 # +1 for padding 0\n",
    "vocab_targ_size = len(targ_lang_tokenzier.word_index) + 1\n",
    "\n",
    "dataset = (\n",
    "    tf.data.Dataset.from_tensor_slices((input_tensor_train, target_tensor_train))\n",
    "    .shuffle(BUFFER_SIZE)\n",
    "    .batch(BATCH_SIZE, drop_remainder=True)\n",
    ")"
   ]
  },
  {
   "cell_type": "code",
   "execution_count": 174,
   "metadata": {},
   "outputs": [
    {
     "name": "stdout",
     "output_type": "stream",
     "text": [
      "(64, 53) (64, 51)\n"
     ]
    }
   ],
   "source": [
    "for i in dataset.take(1):\n",
    "    print(i[0].shape, i[1].shape)"
   ]
  },
  {
   "cell_type": "markdown",
   "metadata": {},
   "source": [
    "## Write the encoder and decoder model"
   ]
  },
  {
   "cell_type": "code",
   "execution_count": 175,
   "metadata": {},
   "outputs": [],
   "source": [
    "class Encoder(tf.keras.Model):\n",
    "    def __init__(self, vocab_size, embedding_dim, enc_units, batch_size, **kwargs):\n",
    "        super(Encoder, self).__init__(**kwargs)\n",
    "        self.batch_size = batch_size\n",
    "        self.enc_units = enc_units\n",
    "        self.embedding = tf.keras.layers.Embedding(vocab_size, embedding_dim)\n",
    "        self.gru = tf.keras.layers.GRU(\n",
    "            self.enc_units,\n",
    "            return_sequences=True,\n",
    "            return_state=True, # Whether to return the last state in addition to the output.\n",
    "            recurrent_initializer='glorot_uniform'\n",
    "        )\n",
    "        \n",
    "    def call(self, x, initial_state):\n",
    "        x = self.embedding(x)\n",
    "        output, state = self.gru(x, initial_state=initial_state)\n",
    "        return output, state\n",
    "    \n",
    "    def initialize_hidden_state(self):\n",
    "        return tf.zeros(shape=(self.batch_size, self.enc_units))"
   ]
  },
  {
   "cell_type": "code",
   "execution_count": 176,
   "metadata": {},
   "outputs": [],
   "source": [
    "encoder = Encoder(vocab_inp_size, embedding_dim, units, BATCH_SIZE)"
   ]
  },
  {
   "cell_type": "code",
   "execution_count": 177,
   "metadata": {},
   "outputs": [
    {
     "name": "stdout",
     "output_type": "stream",
     "text": [
      "Encoder output shape: (batch size, sequence length, units) (64, 53, 1024)\n",
      "Encoder Hidden state shape: (batch size, units) (64, 1024)\n"
     ]
    }
   ],
   "source": [
    "# Sample input\n",
    "sample_hidden = encoder.initialize_hidden_state()\n",
    "for i in dataset.take(1):\n",
    "    sample_input_batch, _ = i\n",
    "    sample_output, sample_hidden_state = encoder(sample_input_batch, sample_hidden)\n",
    "\n",
    "print ('Encoder output shape: (batch size, sequence length, units) {}'.format(sample_output.shape))\n",
    "print ('Encoder Hidden state shape: (batch size, units) {}'.format(sample_hidden.shape))\n",
    "\n",
    "# Hidden state is the last output of returned sequence tensors\n",
    "# sample_output[:, -1, :] == sample_hidden_state"
   ]
  },
  {
   "cell_type": "markdown",
   "metadata": {},
   "source": [
    "This tutorial use __Bahdanau attention__ for the encoder.\n",
    "\n",
    "- FC = Full connected (dense) layer\n",
    "- EO = Encoder output (key & value)\n",
    "- H = Hidden state (query)\n",
    "- X = input to the decoder"
   ]
  },
  {
   "cell_type": "markdown",
   "metadata": {},
   "source": [
    "And the pseudo-code:\n",
    "\n",
    "- `score = FC(tanh(FC(EO) + FC(H)))`\n",
    "- `attention weights = softmax(score, axis = 1)`. Softmax by default is applied on the last axis but here we want to apply it on the 1st axis, since the shape of score is (batch_size, max_length, hidden_size). Max_length is the length of our input. Since we are trying to assign a weight to each input, softmax should be applied on that axis.\n",
    "- `context vector = sum(attention weights * EO, axis = 1)`. Same reason as above for choosing axis as 1.\n",
    "- `embedding output` = The input to the decoder X is passed through an embedding layer.\n",
    "- `merged vector` = concat(embedding output, context vector)\n",
    "- This merged vector is then given to the GRU"
   ]
  },
  {
   "cell_type": "code",
   "execution_count": 178,
   "metadata": {},
   "outputs": [],
   "source": [
    "class BahdanauAttention(tf.keras.layers.Layer):\n",
    "    def __init__(self, units, **kwargs):\n",
    "        super(BahdanauAttention, self).__init__(**kwargs)\n",
    "        self.W1 = tf.keras.layers.Dense(units)\n",
    "        self.W2 = tf.keras.layers.Dense(units)\n",
    "        self.V = tf.keras.layers.Dense(1)\n",
    "        \n",
    "    def call(self, query, values):\n",
    "        # `query` hidden state shape == [BATCH_SIZE, hidden_size], from Decoder's one timestep hidden state\n",
    "        # `query_with_time_axis` shape == [BATCH_SIZE, 1, hidden_size]\n",
    "        # values shape == [BATCH_SIZE, max_len, hidden state], from Encoder's returned sequence hidden states\n",
    "        # we are doing this to broadcast addition along the time axis to calculate the score\n",
    "        query_with_time_axis = tf.expand_dims(query, 1)\n",
    "        \n",
    "        # score shape == [BATCH_SIZE, max_length, 1]\n",
    "        # we get 1 at the last axis because we are applying score to self.V\n",
    "        # the shape of the tensor before applying self.V is [BATCH_SIZE, max_length, units]\n",
    "        _FC_H = self.W1(query_with_time_axis) # FC_H of shape [BATCH_SIZE, 1, units]\n",
    "        _FC_EO = self.W2(values) # FC_EO of shape[BATCH_SIZE, max_length, units]\n",
    "        _tanh = tf.nn.tanh(_FC_H + _FC_EO) # _tanh of shape [BATCH_SIZE, max_length, units]\n",
    "        score = self.V(_tanh) # score of shape [BATCH_SIZE, max_length, 1]\n",
    "        \n",
    "        # attension_weights shape == [BACH_SIZE, max_length, 1]\n",
    "        attention_weights = tf.nn.softmax(score, axis=1) # apply on time dimension\n",
    "        \n",
    "        # context_vector shape after sum == [BATCH_SIZE, hidden_size]\n",
    "        context_vector = attention_weights * values # of shape [BATCH_SIZE, max_length, hidden_size]\n",
    "        context_vector = tf.reduce_sum(context_vector, axis=1)\n",
    "        \n",
    "        return context_vector, attention_weights"
   ]
  },
  {
   "cell_type": "code",
   "execution_count": 179,
   "metadata": {},
   "outputs": [
    {
     "name": "stdout",
     "output_type": "stream",
     "text": [
      "Attention result shape: (batch size, units) (64, 1024)\n",
      "Attention weights shape: (batch_size, sequence_length, 1) (64, 53, 1)\n"
     ]
    }
   ],
   "source": [
    "attention_layer = BahdanauAttention(10)\n",
    "attention_result, attention_weights = attention_layer(sample_hidden, sample_output)\n",
    "\n",
    "print(\"Attention result shape: (batch size, units) {}\".format(attention_result.shape))\n",
    "print(\"Attention weights shape: (batch_size, sequence_length, 1) {}\".format(attention_weights.shape))"
   ]
  },
  {
   "cell_type": "code",
   "execution_count": 180,
   "metadata": {},
   "outputs": [],
   "source": [
    "class Decoder(tf.keras.Model):\n",
    "    def __init__(self, vocab_size, embedding_dim, dec_units, batch_size, **kwargs):\n",
    "        super(Decoder, self).__init__(**kwargs)\n",
    "        self.batch_size = batch_size\n",
    "        self.dec_units = dec_units\n",
    "        self.embedding = tf.keras.layers.Embedding(vocab_size, embedding_dim)\n",
    "        self.gru = tf.keras.layers.GRU(\n",
    "            self.dec_units,\n",
    "            return_sequences=True,\n",
    "            return_state=True,\n",
    "            recurrent_initializer='glorot_uniform'\n",
    "        )\n",
    "        self.fc = tf.keras.layers.Dense(vocab_size)\n",
    "        \n",
    "        # used for attention\n",
    "        self.attention = BahdanauAttention(500) # 500 is attention fc layer units size\n",
    "        \n",
    "    def call(self, x, dec_hidden, enc_output):\n",
    "        \"\"\"Call function for decoder.\n",
    "        Args:\n",
    "            x: decoder input, of shape [BATCH_SIZE, 1], every time only feed one word\n",
    "            dec_hidden: decoder's hidden state, of shape [BATCH_SIZE, dec_hidden_size]\n",
    "            enc_outputs: encoder's output sequence states, of shape [BATCH_SIZE, max_length, enc_hidden_size]\n",
    "        \"\"\"\n",
    "        # enc_output shape == [BATCH_SIZE, max_length, hidden_size]\n",
    "        # the attention use previous decoder's hidden state as query\n",
    "        context_vector, attention_weights = self.attention(query=dec_hidden, values=enc_output)\n",
    "\n",
    "        # x shape after passing through embedding == [BATCH_SIZE, 1, embedding_dim]\n",
    "        x = self.embedding(x)\n",
    "        \n",
    "        # x shape after concattenation == [BATCH_SIZE, 1, hidden_size + embedding_dim] (hidden_size of Encoder)\n",
    "        x = tf.concat([tf.expand_dims(context_vector, axis=1), x], axis=-1)\n",
    "\n",
    "        # passing the concatenated vector to the GRU\n",
    "        output, dec_hidden = self.gru(x)\n",
    "        \n",
    "        # output shape == [BATCH_SIZE * 1, hidden_size]\n",
    "        output = tf.reshape(output, (-1, output.shape[2]))\n",
    "        \n",
    "        # output shape == [BATCH_SIZE, vocab]\n",
    "        x = self.fc(output)\n",
    "        \n",
    "        return x, dec_hidden, attention_weights"
   ]
  },
  {
   "cell_type": "code",
   "execution_count": 181,
   "metadata": {},
   "outputs": [],
   "source": [
    "decoder = Decoder(vocab_targ_size, embedding_dim, units, BATCH_SIZE)"
   ]
  },
  {
   "cell_type": "code",
   "execution_count": 182,
   "metadata": {},
   "outputs": [
    {
     "name": "stdout",
     "output_type": "stream",
     "text": [
      "Decoder output shape: (bach_size, vocab_size) (64, 12934)\n"
     ]
    }
   ],
   "source": [
    "sample_decoder_output, _, _ = decoder(tf.random.uniform((BATCH_SIZE, 1)), sample_hidden, sample_output)\n",
    "\n",
    "print('Decoder output shape: (bach_size, vocab_size) {}'.format(sample_decoder_output.shape))"
   ]
  },
  {
   "cell_type": "markdown",
   "metadata": {},
   "source": [
    "## Define the optimizer and loss function"
   ]
  },
  {
   "cell_type": "code",
   "execution_count": 183,
   "metadata": {},
   "outputs": [],
   "source": [
    "optimizer = tf.keras.optimizers.Adam()\n",
    "loss_object = tf.keras.losses.SparseCategoricalCrossentropy(from_logits=True, reduction='none')\n",
    "\n",
    "def loss_function(real, pred):\n",
    "    \"\"\"Calculate loss.\n",
    "    Args:\n",
    "        real: ground true, of shape [BATCH_SIZE,]\n",
    "        pred: predictions, of shape [BATCH_SIZE, vocab_size]\n",
    "        \n",
    "    Returns:\n",
    "        A scalar mean loss on batch_size\n",
    "    \"\"\"\n",
    "    \n",
    "    loss_ = loss_object(real, pred) # of shape [BATCH_SIZE,]\n",
    "    # exclude the 0 padding\n",
    "    mask = tf.cast(tf.math.not_equal(real, 0), loss_.dtype)\n",
    "    loss_ *= mask\n",
    "    \n",
    "    return tf.reduce_mean(loss_)"
   ]
  },
  {
   "cell_type": "markdown",
   "metadata": {},
   "source": [
    "## Checkpoints(Object-based saving)"
   ]
  },
  {
   "cell_type": "code",
   "execution_count": 184,
   "metadata": {},
   "outputs": [],
   "source": [
    "checkpoint_dir = pathlib.Path('./training_checkpoints')\n",
    "checkpoint_prefix = checkpoint_dir/'ckpt'\n",
    "checkpoint = tf.train.Checkpoint(optimizer=optimizer, encoder=encoder, decoder=decoder)"
   ]
  },
  {
   "cell_type": "markdown",
   "metadata": {},
   "source": [
    "## Training"
   ]
  },
  {
   "cell_type": "markdown",
   "metadata": {},
   "source": [
    "- Pass the `input` through the `encoder` which return `encoder output` and the `encoder hidden state`.\n",
    "- The `encoder output`, `encoder hidden state` and the `decoder input` (which is the start token) is passed to the `decoder`.\n",
    "- The decoder returns the `predictions` and the `decoder hidden state`.\n",
    "- The `decoder hidden state` is then passed back into the model and the predictions are used to calculate the loss.\n",
    "- Use `teacher forcing` to decide the next input to the decoder.\n",
    "- `Teacher forcing` is the technique where the target word is passed as the next input to the decoder.\n",
    "- The final step is to calculate the gradients and apply it to the optimizer and backpropagate."
   ]
  },
  {
   "cell_type": "code",
   "execution_count": 185,
   "metadata": {},
   "outputs": [],
   "source": [
    "@tf.function\n",
    "def train_step(inp, targ, initial_enc_hidden):\n",
    "    loss = 0\n",
    "    \n",
    "    with tf.GradientTape() as tape:\n",
    "        enc_output, enc_hidden = encoder(inp, initial_state=initial_enc_hidden)\n",
    "        \n",
    "        dec_hidden = enc_hidden\n",
    "        \n",
    "        dec_input = targ[:, :1] # the <start>\n",
    "        \n",
    "        # Teacher forcing - feeding the target as the next input\n",
    "        for t in range(1, targ.shape[1]):\n",
    "            # passing enc_output to the decoder\n",
    "            # `dec_hidden` is query\n",
    "            # `enc_output` is key & values\n",
    "            predictions, dec_hidden, _ = decoder(dec_input, dec_hidden=dec_hidden, enc_output=enc_output)\n",
    "            \n",
    "            # accumulate loss along time dimension\n",
    "            loss += loss_function(targ[:, t], predictions)\n",
    "            \n",
    "            # using teacher forcing\n",
    "            dec_input = tf.expand_dims(targ[:, t], 1)\n",
    "\n",
    "    batch_loss = (loss / int(targ.shape[1]))\n",
    "\n",
    "    trainable_variables = encoder.trainable_variables + decoder.trainable_variables\n",
    "\n",
    "    gradients = tape.gradient(loss, trainable_variables)\n",
    "    \n",
    "    optimizer.apply_gradients(zip(gradients, trainable_variables))\n",
    "    \n",
    "    return batch_loss"
   ]
  },
  {
   "cell_type": "code",
   "execution_count": null,
   "metadata": {
    "scrolled": false
   },
   "outputs": [],
   "source": [
    "EPOCHS = 10\n",
    "\n",
    "for epoch in range(1, EPOCHS):\n",
    "    start_time = time.time()\n",
    "    \n",
    "    initial_enc_hidden = encoder.initialize_hidden_state()\n",
    "    total_loss = 0\n",
    "    \n",
    "    for (batch_idx, (inp, targ)) in enumerate(dataset.take(steps_per_epoch)):\n",
    "        batch_loss = train_step(inp, targ, initial_enc_hidden)\n",
    "        total_loss += batch_loss\n",
    "        \n",
    "        if batch_idx % 100 == 0:\n",
    "            print('Epoch {:2d} Batch {:4d} Loss {:.4f}'.format(epoch+1, batch_idx, batch_loss.numpy()))\n",
    "            \n",
    "    if (epoch + 1) % 2 == 0:\n",
    "        checkpoint.save(file_prefix=str(checkpoint_prefix))\n",
    "        \n",
    "    print('Epoch {:2d} Loss {:.4f}'.format(epoch+1, total_loss/steps_per_epoch))\n",
    "    print('Time taken for 1 epoch {} sec\\n'.format(time.time() - start_time))"
   ]
  },
  {
   "cell_type": "markdown",
   "metadata": {},
   "source": [
    "## Translate"
   ]
  },
  {
   "cell_type": "code",
   "execution_count": 277,
   "metadata": {},
   "outputs": [],
   "source": [
    "import numpy as np\n",
    "\n",
    "def evaluate(sentence):\n",
    "    attention_plot = np.zeros((max_length_targ, max_length_inp))\n",
    "    \n",
    "    sentence = preprocess_sentence(sentence)\n",
    "    \n",
    "    inputs = [inp_lang_tokenizer.word_index[i] for i in sentence.split(' ')]\n",
    "    inputs = tf.keras.preprocessing.sequence.pad_sequences([inputs], maxlen=max_length_inp, padding='post')\n",
    "    \n",
    "    inputs = tf.convert_to_tensor(inputs)\n",
    "    \n",
    "    result = ''\n",
    "    \n",
    "    initial_hidden_state = [tf.zeros((1, units))]\n",
    "    enc_out, enc_hidden_state = encoder(inputs, initial_hidden_state)\n",
    "    \n",
    "    dec_hidden_state = enc_hidden_state\n",
    "    dec_input = tf.expand_dims([targ_lang_tokenzier.word_index['<start>']], 0)\n",
    "    \n",
    "    for t in range(max_length_targ):\n",
    "        predictions, dec_hidden_state, attention_weights = decoder(dec_input, dec_hidden_state, enc_out)\n",
    "        \n",
    "        # storing the attention weights to plot later on\n",
    "        # before `reshape`: of shape [BATCH_SIZE(1), max_length_inp, 1]\n",
    "        # after `reshape`: of shape [max_length_inp,]\n",
    "        attention_weights = tf.reshape(attention_weights, (-1, ))\n",
    "        attention_plot[t] = attention_weights.numpy()\n",
    "        \n",
    "        prediction_id = tf.argmax(predictions[0]).numpy()\n",
    "        \n",
    "        result += targ_lang_tokenzier.index_word[prediction_id] + ' '\n",
    "        \n",
    "        # reach the end of sentence\n",
    "        if targ_lang_tokenzier.index_word[prediction_id] == '<end>':\n",
    "            return result, sentence, attention_plot\n",
    "        else:\n",
    "            dec_input = tf.expand_dims([prediction_id], 0)\n",
    "    return result, sentence, attention_plot"
   ]
  },
  {
   "cell_type": "code",
   "execution_count": 278,
   "metadata": {},
   "outputs": [],
   "source": [
    "import matplotlib.pyplot as plt\n",
    "import matplotlib.ticker as ticker\n",
    "\n",
    "# function for plotting the attention weights\n",
    "def plot_attention(attention, sentence, predicted_sentence):\n",
    "    fig = plt.figure(figsize=(10, 10))\n",
    "    ax = fig.add_subplot(1, 1, 1)\n",
    "    ax.matshow(attention, cmap='viridis')\n",
    "    \n",
    "    fontdict = {'fontsize': 14}\n",
    "    \n",
    "    ax.set_xticklabels([''] + sentence, fontdict=fontdict, rotation=90)\n",
    "    ax.set_yticklabels([''] + predicted_sentence, fontdict=fontdict)\n",
    "    \n",
    "    ax.xaxis.set_major_locator(ticker.MultipleLocator(1))\n",
    "    ax.yaxis.set_major_locator(ticker.MultipleLocator(1))\n",
    "    \n",
    "    plt.show()"
   ]
  },
  {
   "cell_type": "code",
   "execution_count": 279,
   "metadata": {},
   "outputs": [],
   "source": [
    "def translate(sentence):\n",
    "    result, sentence, attention_plot = evaluate(sentence)\n",
    "    \n",
    "    print('Input: {:s}'.format(sentence))\n",
    "    print('Predicted translation: {:s}'.format(result))\n",
    "    \n",
    "    attention_plot = attention_plot[:len(result.split(' ')), :len(sentence.split(' '))]\n",
    "    plot_attention(attention_plot, sentence.split(' '), result.split(' '))"
   ]
  },
  {
   "cell_type": "code",
   "execution_count": 280,
   "metadata": {},
   "outputs": [
    {
     "name": "stdout",
     "output_type": "stream",
     "text": [
      "Input: <start> ¿ todavia estan en casa ? <end>\n",
      "Predicted translation: are you still at home ? <end> \n"
     ]
    },
    {
     "data": {
      "image/png": "[encoded data removed]",
      "text/plain": [
       "<Figure size 720x720 with 1 Axes>"
      ]
     },
     "metadata": {
      "needs_background": "light"
     },
     "output_type": "display_data"
    }
   ],
   "source": [
    "translate(u'¿todavia estan en casa?')"
   ]
  },
  {
   "cell_type": "markdown",
   "metadata": {},
   "source": [
    "## Restore the latest checkpoint and test"
   ]
  },
  {
   "cell_type": "code",
   "execution_count": 192,
   "metadata": {},
   "outputs": [
    {
     "data": {
      "text/plain": [
       "<tensorflow.python.training.tracking.util.CheckpointLoadStatus at 0x7f436d201950>"
      ]
     },
     "execution_count": 192,
     "metadata": {},
     "output_type": "execute_result"
    }
   ],
   "source": [
    "# restoring the lastest checkpoint in checkpoint_dir.\n",
    "# remind that `checkpoint = tf.train.Checkpoint(optimizer=optimizer, encoder=encoder, decoder=decoder)`\n",
    "# after restoring, the optimzier, encoder and decoder are update to latest checkpoint values.\n",
    "checkpoint.restore(tf.train.latest_checkpoint(checkpoint_dir))"
   ]
  },
  {
   "cell_type": "code",
   "execution_count": 281,
   "metadata": {},
   "outputs": [
    {
     "name": "stdout",
     "output_type": "stream",
     "text": [
      "Input: <start> hace mucho frio aqui . <end>\n",
      "Predicted translation: it s very cold here . <end> \n"
     ]
    },
    {
     "data": {
      "image/png": "[encoded data removed]",
      "text/plain": [
       "<Figure size 720x720 with 1 Axes>"
      ]
     },
     "metadata": {
      "needs_background": "light"
     },
     "output_type": "display_data"
    }
   ],
   "source": [
    "# now we can use restore encoder, decoder to translate\n",
    "translate(u'hace mucho frio aqui.')"
   ]
  },
  {
   "cell_type": "code",
   "execution_count": null,
   "metadata": {},
   "outputs": [],
   "source": []
  }
 ],
 "metadata": {
  "kernelspec": {
   "display_name": "Python 3",
   "language": "python",
   "name": "python3"
  },
  "language_info": {
   "codemirror_mode": {
    "name": "ipython",
    "version": 3
   },
   "file_extension": ".py",
   "mimetype": "text/x-python",
   "name": "python",
   "nbconvert_exporter": "python",
   "pygments_lexer": "ipython3",
   "version": "3.7.6"
  }
 },
 "nbformat": 4,
 "nbformat_minor": 4
}
