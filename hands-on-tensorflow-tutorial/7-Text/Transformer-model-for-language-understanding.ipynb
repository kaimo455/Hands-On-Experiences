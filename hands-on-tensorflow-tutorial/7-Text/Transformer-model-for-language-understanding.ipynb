{
 "cells": [
  {
   "cell_type": "code",
   "execution_count": 1,
   "metadata": {},
   "outputs": [],
   "source": [
    "import tensorflow as tf\n",
    "import tensorflow_datasets as tfds\n",
    "tfds.disable_progress_bar()\n",
    "\n",
    "import time\n",
    "import numpy as np\n",
    "import matplotlib.pyplot as plt"
   ]
  },
  {
   "cell_type": "code",
   "execution_count": 2,
   "metadata": {},
   "outputs": [],
   "source": [
    "BATCH_SIZE = 64\n",
    "BUFFER_SIZE = int(2e4)\n",
    "MAX_LENGTH = 40 # Use the max_length to filter out examples with more than 40 tokens for faster training"
   ]
  },
  {
   "cell_type": "markdown",
   "metadata": {},
   "source": [
    "## Setup input pipeline"
   ]
  },
  {
   "cell_type": "code",
   "execution_count": 3,
   "metadata": {},
   "outputs": [],
   "source": [
    "examples, metadata = tfds.load('ted_hrlr_translate/pt_to_en', with_info=True, as_supervised=True)\n",
    "train_examples, val_examples = examples['train'], examples['validation']"
   ]
  },
  {
   "cell_type": "markdown",
   "metadata": {},
   "source": [
    "The SubwordTextEncoder encodes the string by breaking it into subwords if the word is not in its dictionary. The whitespace ` ` will be used `_` to represent."
   ]
  },
  {
   "cell_type": "code",
   "execution_count": 4,
   "metadata": {},
   "outputs": [],
   "source": [
    "tokenizer_en = tfds.features.text.SubwordTextEncoder.build_from_corpus(\n",
    "    (en.numpy() for pt, en in train_examples),\n",
    "    target_vocab_size=2**13)\n",
    "tokenizer_pt = tfds.features.text.SubwordTextEncoder.build_from_corpus(\n",
    "    (pt.numpy() for pt, en in train_examples),\n",
    "    target_vocab_size=2**13)"
   ]
  },
  {
   "cell_type": "code",
   "execution_count": 5,
   "metadata": {},
   "outputs": [
    {
     "name": "stdout",
     "output_type": "stream",
     "text": [
      "Tokenized string is [7915, 1248, 7946, 7194, 13, 2799, 7877]\n",
      "The original string: Transformer is awesome.\n",
      "7915 ----> T\n",
      "1248 ----> ran\n",
      "7946 ----> s\n",
      "7194 ----> former \n",
      "13 ----> is \n",
      "2799 ----> awesome\n",
      "7877 ----> .\n"
     ]
    }
   ],
   "source": [
    "sample_string = 'Transformer is awesome.'\n",
    "\n",
    "tokenized_string = tokenizer_en.encode(sample_string)\n",
    "print ('Tokenized string is {}'.format(tokenized_string))\n",
    "\n",
    "original_string = tokenizer_en.decode(tokenized_string)\n",
    "print ('The original string: {}'.format(original_string))\n",
    "\n",
    "assert original_string == sample_string\n",
    "\n",
    "for ts in tokenized_string:\n",
    "    print ('{} ----> {}'.format(ts, tokenizer_en.decode([ts])))"
   ]
  },
  {
   "cell_type": "markdown",
   "metadata": {},
   "source": [
    "Add start and end token to the input and target. Here we use `vocab_size` to represents start token, `vocab_size + 1` to represents end token."
   ]
  },
  {
   "cell_type": "code",
   "execution_count": 6,
   "metadata": {},
   "outputs": [],
   "source": [
    "def encode(pt, en):\n",
    "    pt = [tokenizer_pt.vocab_size] + tokenizer_pt.encode(pt.numpy()) + [tokenizer_pt.vocab_size+1]\n",
    "    en = [tokenizer_en.vocab_size] + tokenizer_en.encode(en.numpy()) + [tokenizer_en.vocab_size+1]\n",
    "    return pt, en\n",
    "\n",
    "# Warp the `encode` function to that it could be added to graph.\n",
    "def tf_encode(pt, en):\n",
    "    _pt, _en = tf.py_function(encode, inp=(pt, en), Tout=(tf.int64, tf.int64))\n",
    "    _pt.set_shape = [None]\n",
    "    _en.set_shape = [None]\n",
    "    return _pt, _en"
   ]
  },
  {
   "cell_type": "code",
   "execution_count": 7,
   "metadata": {},
   "outputs": [
    {
     "data": {
      "text/plain": [
       "<tf.Tensor: shape=(), dtype=int32, numpy=15>"
      ]
     },
     "execution_count": 7,
     "metadata": {},
     "output_type": "execute_result"
    }
   ],
   "source": [
    "tf.size(tf.zeros((3, 5)))"
   ]
  },
  {
   "cell_type": "code",
   "execution_count": 8,
   "metadata": {},
   "outputs": [],
   "source": [
    "def filter_max_length(x, y, max_length=MAX_LENGTH):\n",
    "    # tf.size returns the number of all elements in tensor.\n",
    "    # e.g. shape of [3, 5] --> 15\n",
    "    return tf.logical_and(tf.size(x) <= max_length, tf.size(y) <= max_length)"
   ]
  },
  {
   "cell_type": "code",
   "execution_count": 9,
   "metadata": {},
   "outputs": [],
   "source": [
    "train_dataset = train_examples.map(tf_encode) # string -> int64\n",
    "train_dataset = train_dataset.filter(filter_max_length) # filters out examples with > 40 tokens\n",
    "train_dataset = train_dataset.cache()\n",
    "train_dataset = train_dataset.shuffle(BUFFER_SIZE).padded_batch(BATCH_SIZE, padded_shapes=([None], [None]))\n",
    "train_dataset = train_dataset.prefetch(tf.data.experimental.AUTOTUNE)\n",
    "\n",
    "val_dataset = val_examples.map(tf_encode)\n",
    "val_dataset = val_dataset.filter(filter_max_length)\n",
    "val_dataset = val_dataset.padded_batch(BATCH_SIZE, padded_shapes=([None], [None]))"
   ]
  },
  {
   "cell_type": "code",
   "execution_count": 10,
   "metadata": {},
   "outputs": [
    {
     "data": {
      "text/plain": [
       "(TensorShape([64, 38]), TensorShape([64, 40]))"
      ]
     },
     "execution_count": 10,
     "metadata": {},
     "output_type": "execute_result"
    }
   ],
   "source": [
    "pt_batch, en_batch = next(iter(train_dataset))\n",
    "pt_batch.shape, en_batch.shape"
   ]
  },
  {
   "cell_type": "markdown",
   "metadata": {},
   "source": [
    "## Positional encoding"
   ]
  },
  {
   "cell_type": "code",
   "execution_count": 11,
   "metadata": {},
   "outputs": [],
   "source": [
    "def get_angle(pos, i, d_model):\n",
    "    \"\"\"\n",
    "    Args:\n",
    "        pos: word position.\n",
    "        i: embedding_position.\n",
    "        d_model: size of embedding.\n",
    "    \"\"\"\n",
    "    # position-0: 10000**(0/d_model)\n",
    "    # position-1: 10000**(0/d_model)\n",
    "    # position-2: 10000**(2/d_model)\n",
    "    # position-3: 10000**(2/d_model)\n",
    "    # ...\n",
    "    angle_rates = 1 / np.power(10000, (2*(i//2)) / np.float32(d_model))\n",
    "    return pos * angle_rates"
   ]
  },
  {
   "cell_type": "code",
   "execution_count": 12,
   "metadata": {},
   "outputs": [],
   "source": [
    "def positional_encoding(sequence_length, d_model):\n",
    "    angle_rads = get_angle(\n",
    "        pos=np.arange(sequence_length)[:, np.newaxis], # [len_pos, 1]\n",
    "        i=np.arange(d_model)[np.newaxis, :], # [1, d_model]\n",
    "        d_model=d_model)\n",
    "    \n",
    "    # Apply sin to even indices in the array: 2i\n",
    "    angle_rads[:, 0::2] = np.sin(angle_rads[:, 0::2])\n",
    "    # Apply cos to odd indices in the array: 2i+2\n",
    "    angle_rads[:, 1::2] = np.cos(angle_rads[:, 1::2])\n",
    "    \n",
    "    pos_encoding = angle_rads[np.newaxis, ...] # [1, len_pos, d_model]\n",
    "    \n",
    "    return tf.cast(pos_encoding, tf.float32)"
   ]
  },
  {
   "cell_type": "code",
   "execution_count": 13,
   "metadata": {},
   "outputs": [
    {
     "name": "stdout",
     "output_type": "stream",
     "text": [
      "(1, 30, 128)\n"
     ]
    },
    {
     "data": {
      "image/png": "[encoded data removed]",
      "text/plain": [
       "<Figure size 1152x288 with 2 Axes>"
      ]
     },
     "metadata": {
      "needs_background": "light"
     },
     "output_type": "display_data"
    }
   ],
   "source": [
    "pos_encoding = positional_encoding(sequence_length=30, d_model=128)\n",
    "print(pos_encoding.shape)\n",
    "\n",
    "plt.figure(figsize=(16, 4))\n",
    "plt.pcolormesh(pos_encoding[0], cmap='RdBu')\n",
    "plt.xlabel('Depth')\n",
    "plt.xlim((0, 128))\n",
    "plt.ylabel('Position')\n",
    "plt.colorbar()\n",
    "plt.show()"
   ]
  },
  {
   "cell_type": "markdown",
   "metadata": {},
   "source": [
    "## Masking"
   ]
  },
  {
   "cell_type": "markdown",
   "metadata": {},
   "source": [
    "Mask all pad tokens in the batch of sequence. It ensures that the model does not treat padding as the input."
   ]
  },
  {
   "cell_type": "code",
   "execution_count": 14,
   "metadata": {},
   "outputs": [],
   "source": [
    "def create_padding_mask(sequence):\n",
    "    mask = tf.cast(tf.math.equal(sequence, 0), tf.float32)\n",
    "    # Add extra dimensions to add the padding to the attention logits.\n",
    "    return mask[:, tf.newaxis, tf.newaxis, :] # [BATCH_SIZE, 1, 1, seq_len] ([BATCH_SIZE, NUM_HEADS, seq_len_q, seq_len_k])"
   ]
  },
  {
   "cell_type": "code",
   "execution_count": 93,
   "metadata": {},
   "outputs": [
    {
     "data": {
      "text/plain": [
       "<tf.Tensor: shape=(2, 1, 1, 5), dtype=float32, numpy=\n",
       "array([[[[0., 0., 1., 1., 0.]]],\n",
       "\n",
       "\n",
       "       [[[1., 0., 0., 1., 0.]]]], dtype=float32)>"
      ]
     },
     "execution_count": 93,
     "metadata": {},
     "output_type": "execute_result"
    }
   ],
   "source": [
    "x = tf.constant([[7, 6, 0, 0, 1], [0, 6, 8, 0, 1]])\n",
    "create_padding_mask(x)"
   ]
  },
  {
   "cell_type": "markdown",
   "metadata": {},
   "source": [
    "Mask ahead words, which means that to predict the third word, only the first and second word will be used."
   ]
  },
  {
   "cell_type": "code",
   "execution_count": 16,
   "metadata": {},
   "outputs": [],
   "source": [
    "def create_look_ahead_mask(seq_len):\n",
    "    # tf.linalg.band_part num_lower=-1 --> Lower triangular part.\n",
    "    # tf.linalg.band_part num_upper=0 --> Diagonal.\n",
    "    mask = 1 - tf.linalg.band_part(tf.ones((seq_len, seq_len)), num_lower=-1, num_upper=0)\n",
    "    return mask"
   ]
  },
  {
   "cell_type": "code",
   "execution_count": 17,
   "metadata": {},
   "outputs": [
    {
     "data": {
      "text/plain": [
       "<tf.Tensor: shape=(3, 3), dtype=float32, numpy=\n",
       "array([[0., 1., 1.],\n",
       "       [0., 0., 1.],\n",
       "       [0., 0., 0.]], dtype=float32)>"
      ]
     },
     "execution_count": 17,
     "metadata": {},
     "output_type": "execute_result"
    }
   ],
   "source": [
    "create_look_ahead_mask(3)"
   ]
  },
  {
   "cell_type": "markdown",
   "metadata": {},
   "source": [
    "## Scaled dot product attention"
   ]
  },
  {
   "cell_type": "markdown",
   "metadata": {},
   "source": [
    "![](https://www.tensorflow.org/images/tutorials/transformer/scaled_attention.png)"
   ]
  },
  {
   "cell_type": "code",
   "execution_count": 18,
   "metadata": {},
   "outputs": [],
   "source": [
    "def scaled_dot_product_attention(q, k, v, mask=None):\n",
    "    \"\"\"Calculate the attention weights.\n",
    "    q, k, v must have matching leading dimensions.\n",
    "    k, v must have matchin penultimate dimension, i.e.: seq_len_k = seq_len_v\n",
    "    The mask has different shapes depending on its type(padding or look ahead)\n",
    "    but it must be broadcastable for addition.\n",
    "    \n",
    "    Args:\n",
    "        q: query shape == (..., seq_len_q, depth)\n",
    "        k: key shape == (..., seq_len_k, depth)\n",
    "        v: value shape == (..., seq_len_v, depth_v)\n",
    "        mask: Float tensor with shape broadcastable to (..., seq_len_q, seq_len_k). Defaults to None\n",
    "    \n",
    "    Returns:\n",
    "        output, attention_weights\n",
    "    \"\"\"\n",
    "    \n",
    "    matmul_qk = tf.matmul(q, k, transpose_b=True) # (..., seq_len_q, seq_len_k)\n",
    "    \n",
    "    # scale matmul_qk\n",
    "    depth_k = tf.cast(tf.shape(k)[-1], tf.float32)\n",
    "    scaled_attention_logits = matmul_qk / tf.math.sqrt(depth_k) # (..., seq_len_q, seq_len_k)\n",
    "    \n",
    "    # Add the mask to the scaled attention logits.\n",
    "    if mask is not None:\n",
    "        scaled_attention_logits += (mask * -1e9)\n",
    "        \n",
    "        \n",
    "    # softmax is normalized on the last axis (seq_len_k) so that the scores add up to 1.\n",
    "    attention_weights = tf.nn.softmax(scaled_attention_logits, axis=-1) # (..., seq_len_q, seq_len_k)\n",
    "    \n",
    "    context = tf.matmul(attention_weights, v) # (..., seq_len_q, depth_v)\n",
    "    \n",
    "    return context, attention_weights"
   ]
  },
  {
   "cell_type": "code",
   "execution_count": 19,
   "metadata": {},
   "outputs": [
    {
     "name": "stdout",
     "output_type": "stream",
     "text": [
      "Attention weights are:\n",
      "tf.Tensor([[0. 1. 0. 0.]], shape=(1, 4), dtype=float32)\n",
      "Output is:\n",
      "tf.Tensor([[10.  0.]], shape=(1, 2), dtype=float32)\n"
     ]
    }
   ],
   "source": [
    "def print_out(q, k, v):\n",
    "    temp_out, temp_attn = scaled_dot_product_attention(q, k, v, None)\n",
    "    print ('Attention weights are:')\n",
    "    print (temp_attn)\n",
    "    print ('Output is:')\n",
    "    print (temp_out)\n",
    "\n",
    "\n",
    "np.set_printoptions(suppress=True)\n",
    "\n",
    "temp_k = tf.constant([[10,0,0],\n",
    "                      [0,10,0],\n",
    "                      [0,0,10],\n",
    "                      [0,0,10]], dtype=tf.float32)  # (4, 3)\n",
    "\n",
    "temp_v = tf.constant([[   1,0],\n",
    "                      [  10,0],\n",
    "                      [ 100,5],\n",
    "                      [1000,6]], dtype=tf.float32)  # (4, 2)\n",
    "\n",
    "# This `query` aligns with the second `key`, so the second `value` is returned.\n",
    "temp_q = tf.constant([[0, 10, 0]], dtype=tf.float32)  # (1, 3)\n",
    "print_out(temp_q, temp_k, temp_v)"
   ]
  },
  {
   "cell_type": "code",
   "execution_count": 20,
   "metadata": {},
   "outputs": [
    {
     "name": "stdout",
     "output_type": "stream",
     "text": [
      "Attention weights are:\n",
      "tf.Tensor([[0.  0.  0.5 0.5]], shape=(1, 4), dtype=float32)\n",
      "Output is:\n",
      "tf.Tensor([[550.    5.5]], shape=(1, 2), dtype=float32)\n"
     ]
    }
   ],
   "source": [
    "# This query aligns with a repeated key (third and fourth), \n",
    "# so all associated values get averaged.\n",
    "temp_q = tf.constant([[0, 0, 10]], dtype=tf.float32)  # (1, 3)\n",
    "print_out(temp_q, temp_k, temp_v)"
   ]
  },
  {
   "cell_type": "code",
   "execution_count": 21,
   "metadata": {},
   "outputs": [
    {
     "name": "stdout",
     "output_type": "stream",
     "text": [
      "Attention weights are:\n",
      "tf.Tensor([[0.5 0.5 0.  0. ]], shape=(1, 4), dtype=float32)\n",
      "Output is:\n",
      "tf.Tensor([[5.5 0. ]], shape=(1, 2), dtype=float32)\n"
     ]
    }
   ],
   "source": [
    "# This query aligns equally with the first and second key, \n",
    "# so their values get averaged.\n",
    "temp_q = tf.constant([[10, 10, 0]], dtype=tf.float32)  # (1, 3)\n",
    "print_out(temp_q, temp_k, temp_v)"
   ]
  },
  {
   "cell_type": "code",
   "execution_count": 22,
   "metadata": {},
   "outputs": [
    {
     "name": "stdout",
     "output_type": "stream",
     "text": [
      "Attention weights are:\n",
      "tf.Tensor(\n",
      "[[0.  0.  0.5 0.5]\n",
      " [0.  1.  0.  0. ]\n",
      " [0.5 0.5 0.  0. ]], shape=(3, 4), dtype=float32)\n",
      "Output is:\n",
      "tf.Tensor(\n",
      "[[550.    5.5]\n",
      " [ 10.    0. ]\n",
      " [  5.5   0. ]], shape=(3, 2), dtype=float32)\n"
     ]
    }
   ],
   "source": [
    "# All together\n",
    "temp_q = tf.constant([[0, 0, 10], [0, 10, 0], [10, 10, 0]], dtype=tf.float32)  # (3, 3)\n",
    "print_out(temp_q, temp_k, temp_v)"
   ]
  },
  {
   "cell_type": "markdown",
   "metadata": {},
   "source": [
    "## Multi-head attention"
   ]
  },
  {
   "cell_type": "markdown",
   "metadata": {},
   "source": [
    "![image.png](https://www.tensorflow.org/images/tutorials/transformer/multi_head_attention.png)\n",
    "\n",
    "Contains:\n",
    "- Linear layers and split into heads.\n",
    "- Scaled dot-product attention.\n",
    "- Concatenation of heads.\n",
    "- Final linear layer."
   ]
  },
  {
   "cell_type": "code",
   "execution_count": 23,
   "metadata": {},
   "outputs": [],
   "source": [
    "class MultiHeadAttention(tf.keras.layers.Layer):\n",
    "    def __init__(self, d_model, num_heads, **kwargs):\n",
    "        super(MultiHeadAttention, self).__init__(**kwargs)\n",
    "        self.num_heads = num_heads\n",
    "        self.d_model = d_model\n",
    "        \n",
    "        assert d_model % self.num_heads == 0\n",
    "        \n",
    "        # depth for each head\n",
    "        self.depth = d_model // self.num_heads\n",
    "        \n",
    "        self.Wq = tf.keras.layers.Dense(d_model)\n",
    "        self.Wk = tf.keras.layers.Dense(d_model)\n",
    "        self.Wv = tf.keras.layers.Dense(d_model)\n",
    "        \n",
    "        self.dense = tf.keras.layers.Dense(d_model)\n",
    "        \n",
    "    def split_heads(self, x, batch_size):\n",
    "        \"\"\"Split the late dimension into (num_heads, depth).\n",
    "        Transpose the result such that the shape is (batch_size, num_heads, seq_len, depth)\n",
    "        \n",
    "        Args:\n",
    "            x: original input, of shape (batch_size, seq_len, d_model)\n",
    "        \"\"\"\n",
    "        x = tf.reshape(x, (batch_size, -1, self.num_heads, self.depth))\n",
    "        return tf.transpose(x, perm=[0, 2, 1, 3])\n",
    "    \n",
    "    def call(self, v, k, q, mask):\n",
    "        batch_size = tf.shape(q)[0]\n",
    "        \n",
    "        q = self.Wq(q) # (batch_size, seq_len_q, d_model)\n",
    "        k = self.Wq(k) # (batch_size, seq_len_k, d_model)\n",
    "        v = self.Wq(v) # (batch_size, seq_len_v, d_model)\n",
    "        \n",
    "        q = self.split_heads(q, batch_size) # (batch_size, num_heads, seq_len_q, depth)\n",
    "        k = self.split_heads(k, batch_size) # (batch_size, num_heads, seq_len_k, depth)\n",
    "        v = self.split_heads(v, batch_size) # (batch_size, num_heads, seq_len_v, depth)\n",
    "        \n",
    "        # scaled_attention.shape == (batch_size, num_heads, seq_len_q, depth)\n",
    "        # attention_weights.shape == (batch_size, num_heads, seq_len_q, seq_len_k)\n",
    "        scaled_attention, attention_weights = scaled_dot_product_attention(q, k, v, mask)\n",
    "        \n",
    "        scaled_attention = tf.transpose(scaled_attention, perm=[0, 2, 1, 3]) # (batch_size, seq_len_q, num_heads, depth)\n",
    "        concate_attention = tf.reshape(scaled_attention, (batch_size, -1, self.d_model))# (batch_size, seq_len_q, d_model)\n",
    "        \n",
    "        output = self.dense(concate_attention) # (batch_size, seq_len_q, d_model)\n",
    "        \n",
    "        return output, attention_weights"
   ]
  },
  {
   "cell_type": "code",
   "execution_count": 24,
   "metadata": {},
   "outputs": [
    {
     "data": {
      "text/plain": [
       "(TensorShape([1, 60, 512]), TensorShape([1, 8, 60, 60]))"
      ]
     },
     "execution_count": 24,
     "metadata": {},
     "output_type": "execute_result"
    }
   ],
   "source": [
    "temp_mha = MultiHeadAttention(d_model=512, num_heads=8)\n",
    "y = tf.random.uniform((1, 60, 512))  # (batch_size, encoder_sequence, d_model)\n",
    "output, attention_weights = temp_mha(y, k=y, q=y, mask=None)\n",
    "output.shape, attention_weights.shape"
   ]
  },
  {
   "cell_type": "markdown",
   "metadata": {},
   "source": [
    "## Point wise feed forward network\n",
    "\n",
    "Point wise feed forward network consists of two fully-connected layers with a ReLU activation in between."
   ]
  },
  {
   "cell_type": "code",
   "execution_count": 25,
   "metadata": {},
   "outputs": [],
   "source": [
    "def point_wise_feed_forward_network(d_model, dff):\n",
    "    return tf.keras.Sequential([\n",
    "        tf.keras.layers.Dense(dff, activation='relu'), # (batch_size, seq_len, dff)\n",
    "        tf.keras.layers.Dense(d_model) # (batch_size, seq_len, d_model)\n",
    "    ])"
   ]
  },
  {
   "cell_type": "code",
   "execution_count": 29,
   "metadata": {},
   "outputs": [
    {
     "data": {
      "text/plain": [
       "TensorShape([64, 50, 512])"
      ]
     },
     "execution_count": 29,
     "metadata": {},
     "output_type": "execute_result"
    }
   ],
   "source": [
    "sample_ffn = point_wise_feed_forward_network(512, 2048)\n",
    "sample_ffn(tf.random.uniform((64, 50, 512))).shape"
   ]
  },
  {
   "cell_type": "markdown",
   "metadata": {},
   "source": [
    "## Encoder and decoder"
   ]
  },
  {
   "cell_type": "markdown",
   "metadata": {},
   "source": [
    "![image.png](https://www.tensorflow.org/images/tutorials/transformer/transformer.png)"
   ]
  },
  {
   "cell_type": "markdown",
   "metadata": {},
   "source": [
    "### Encoder layer\n",
    "\n",
    "consists:\n",
    "- Multi-head attention (with padding mask)\n",
    "- Point wise feed forward networks\n",
    "\n",
    "Each of these sublayers has a residual connection around it followed by a layer normalization. Residual connections help in avoiding the vanishing gradient problem in deep networks."
   ]
  },
  {
   "cell_type": "code",
   "execution_count": 31,
   "metadata": {},
   "outputs": [],
   "source": [
    "class EncoderLayer(tf.keras.layers.Layer):\n",
    "    def __init__(self, d_model, num_heads, dff, rate=0.1, **kwargs):\n",
    "        super(EncoderLayer, self).__init__(**kwargs)\n",
    "        \n",
    "        self.mha = MultiHeadAttention(d_model, num_heads)\n",
    "        self.ffn = point_wise_feed_forward_network(d_model, dff)\n",
    "        \n",
    "        self.layernorm1 = tf.keras.layers.LayerNormalization(epsilon=1e-6)\n",
    "        self.layernorm2 = tf.keras.layers.LayerNormalization(epsilon=1e-6)\n",
    "        \n",
    "        self.dropout1 = tf.keras.layers.Dropout(rate)\n",
    "        self.dropout2 = tf.keras.layers.Dropout(rate)\n",
    "        \n",
    "    def call(self, x, training, mask):\n",
    "        \n",
    "        # The lower part\n",
    "        attn_output, _ = self.mha(x, x, x, mask) # (batch_size, input_seq_len, d_model)\n",
    "        attn_output = self.dropout1(attn_output, training=training)\n",
    "        out1 = self.layernorm1(x + attn_output) # (batch_size, input_seq_len, d_model)\n",
    "        \n",
    "        # The upper part\n",
    "        ffn_output = self.ffn(out1) # (batch_size, input_seq_len, d_model)\n",
    "        ffn_output = self.dropout2(ffn_output, training=training)\n",
    "        out2 = self.layernorm2(out1 + ffn_output) # (batch_size, input_seq_len, d_model)\n",
    "        \n",
    "        return out2"
   ]
  },
  {
   "cell_type": "code",
   "execution_count": 34,
   "metadata": {},
   "outputs": [
    {
     "data": {
      "text/plain": [
       "TensorShape([64, 40, 512])"
      ]
     },
     "execution_count": 34,
     "metadata": {},
     "output_type": "execute_result"
    }
   ],
   "source": [
    "sample_encoder_layer = EncoderLayer(d_model=512, num_heads=8, dff=2048)\n",
    "\n",
    "sample_encoder_layer_output = sample_encoder_layer(\n",
    "    tf.random.uniform((64, 40, 512)), training=False, mask=None)\n",
    "\n",
    "sample_encoder_layer_output.shape  # (batch_size, input_seq_len, d_model)"
   ]
  },
  {
   "cell_type": "markdown",
   "metadata": {},
   "source": [
    "### Decoder layer\n",
    "\n",
    "consists:\n",
    "- Masked multi-head attention (with look ahead mask and padding mask)\n",
    "- Multi-head attention (with padding mask). V (value) and K (key) receive the encoder output as inputs. Q (query) receives the output from the masked multi-head attention sublayer.\n",
    "- Point wise feed forward networks\n",
    "\n",
    "Each of these sublayers has a residual connection around it followed by a layer normalization."
   ]
  },
  {
   "cell_type": "code",
   "execution_count": 35,
   "metadata": {},
   "outputs": [],
   "source": [
    "class DecoderLayer(tf.keras.layers.Layer):\n",
    "    def __init__(self, d_model, num_heads, dff, rate=0.1, **kwargs):\n",
    "        super(DecoderLayer, self).__init__(**kwargs)\n",
    "        \n",
    "        self.mha1 = MultiHeadAttention(d_model, num_heads)\n",
    "        self.mha2 = MultiHeadAttention(d_model, num_heads)\n",
    "        \n",
    "        self.ffn = point_wise_feed_forward_network(d_model, dff)\n",
    "        \n",
    "        self.layernorm1 = tf.keras.layers.LayerNormalization(epsilon=1e-6)\n",
    "        self.layernorm2 = tf.keras.layers.LayerNormalization(epsilon=1e-6)\n",
    "        self.layernorm3 = tf.keras.layers.LayerNormalization(epsilon=1e-6)\n",
    "        \n",
    "        self.dropout1 = tf.keras.layers.Dropout(rate)\n",
    "        self.dropout2 = tf.keras.layers.Dropout(rate)\n",
    "        self.dropout3 = tf.keras.layers.Dropout(rate)\n",
    "        \n",
    "    def call(self, x, enc_output, training, look_ahead_mask, padding_mask):\n",
    "        # enc_output.shape == (batch_size, input_seq_len, d_model)\n",
    "        \n",
    "        # The lower part\n",
    "        attn1, atten_weights_block1 = self.mha1(x, x, x, look_ahead_mask) # (batch_size, target_seq_len, d_model)\n",
    "        attn1 = self.dropout1(attn1, training=training)\n",
    "        out1 = self.layernorm1(attn1 + x) # (batch_size, target_seq_len, d_model)\n",
    "        \n",
    "        # The middle part\n",
    "        attn2, atten_weights_block2 = self.mha2(enc_output, enc_output, out1, padding_mask) # (batch_size, target_seq_len, d_model)\n",
    "        attn2 = self.dropout2(attn2, training=training)\n",
    "        out2 = self.layernorm2(attn2 + out1) # (batch_size, target_seq_len, d_model)\n",
    "        \n",
    "        # The upper part\n",
    "        ffn_output = self.ffn(out2) # (batch_size, target_seq_len, d_model)\n",
    "        ffn_output = self.dropout3(ffn_output, training=training)\n",
    "        out3 = self.layernorm3(ffn_output + out2) # (batch_size, target_seq_len, d_model)\n",
    "        \n",
    "        return out3, atten_weights_block1, atten_weights_block2\n",
    "        "
   ]
  },
  {
   "cell_type": "code",
   "execution_count": 39,
   "metadata": {},
   "outputs": [
    {
     "data": {
      "text/plain": [
       "TensorShape([64, 50, 512])"
      ]
     },
     "execution_count": 39,
     "metadata": {},
     "output_type": "execute_result"
    }
   ],
   "source": [
    "sample_decoder_layer = DecoderLayer(d_model=512, num_heads=8, dff=2048)\n",
    "\n",
    "sample_decoder_layer_output, _, _ = sample_decoder_layer(\n",
    "    x=tf.random.uniform((64, 50, 512)),\n",
    "    enc_output=sample_encoder_layer_output, \n",
    "    training=False,\n",
    "    look_ahead_mask=None,\n",
    "    padding_mask=None)\n",
    "\n",
    "sample_decoder_layer_output.shape  # (batch_size, target_seq_len, d_model)"
   ]
  },
  {
   "cell_type": "markdown",
   "metadata": {},
   "source": [
    "### Encoder\n",
    "\n",
    "consist:\n",
    "- Input Embedding\n",
    "- Positional Embedding\n",
    "- N Encoder layers"
   ]
  },
  {
   "cell_type": "code",
   "execution_count": 41,
   "metadata": {},
   "outputs": [],
   "source": [
    "class Encoder(tf.keras.layers.Layer):\n",
    "    def __init__(self, num_layers, d_model, num_heads, dff, input_vocab_size,\n",
    "                 maximum_position_encoding, rate=0.1, **kwargs):\n",
    "        super(Encoder, self).__init__(**kwargs)\n",
    "        \n",
    "        self.d_model = d_model\n",
    "        self.num_layers = num_layers\n",
    "        \n",
    "        self.embedding = tf.keras.layers.Embedding(input_vocab_size, self.d_model) # (batch_size, input_seq_len, d_model)\n",
    "        self.pos_encoding = positional_encoding(maximum_position_encoding, self.d_model) # (1, max_pos_enc, d_model)\n",
    "        \n",
    "        self.enc_layers = [EncoderLayer(self.d_model, num_heads, dff, rate) for _ in range(self.num_layers)]\n",
    "        \n",
    "        self.dropout = tf.keras.layers.Dropout(rate)\n",
    "        \n",
    "    def call(self, x, training, mask):\n",
    "        \n",
    "        seq_len = tf.shape(x)[1]\n",
    "        \n",
    "        # Adding embedding and position encoding.\n",
    "        x = self.embedding(x) # (batch_size, input_seq_len, d_model)\n",
    "        # The reason we increase the embedding values before the addition is to make \n",
    "        #   the positional encoding relatively smaller. This means the original meaning \n",
    "        #   in the embedding vector won’t be lost when we add them together.\n",
    "        x *= tf.math.sqrt(tf.cast(self.d_model, tf.float32))\n",
    "        x += self.pos_encoding[:, :seq_len, :]\n",
    "        \n",
    "        x = self.dropout(x, training=training)\n",
    "        \n",
    "        for _ in range(self.num_layers):\n",
    "            x = self.enc_layers[_](x, training=training, mask=mask)\n",
    "            \n",
    "        return x # (batch_size, input_seq_len, d_model)"
   ]
  },
  {
   "cell_type": "code",
   "execution_count": 42,
   "metadata": {},
   "outputs": [
    {
     "name": "stdout",
     "output_type": "stream",
     "text": [
      "(64, 62, 512)\n"
     ]
    }
   ],
   "source": [
    "sample_encoder = Encoder(num_layers=2, d_model=512, num_heads=8, \n",
    "                         dff=2048, input_vocab_size=8500,\n",
    "                         maximum_position_encoding=10000)\n",
    "temp_input = tf.random.uniform((64, 62), dtype=tf.int64, minval=0, maxval=200)\n",
    "\n",
    "sample_encoder_output = sample_encoder(temp_input, training=False, mask=None)\n",
    "\n",
    "print (sample_encoder_output.shape)  # (batch_size, input_seq_len, d_model)"
   ]
  },
  {
   "cell_type": "markdown",
   "metadata": {},
   "source": [
    "### Decoder"
   ]
  },
  {
   "cell_type": "code",
   "execution_count": 52,
   "metadata": {},
   "outputs": [],
   "source": [
    "class Decoder(tf.keras.layers.Layer):\n",
    "    def __init__(self, num_layers, d_model, num_heads, dff, target_vocab_size,\n",
    "                 maximum_position_encoding, rate=0.1, **kwargs):\n",
    "        super(Decoder, self).__init__(**kwargs)\n",
    "\n",
    "        self.d_model = d_model\n",
    "        self.num_layers = num_layers\n",
    "        \n",
    "        self.embedding = tf.keras.layers.Embedding(target_vocab_size, self.d_model)\n",
    "        self.pos_encoding = positional_encoding(maximum_position_encoding, self.d_model)\n",
    "        \n",
    "        self.dec_layers = [DecoderLayer(self.d_model, num_heads, dff, rate) for _ in range(self.num_layers)]\n",
    "        \n",
    "        self.dropout = tf.keras.layers.Dropout(rate)\n",
    "        \n",
    "    def call(self, x, enc_output, training, look_ahead_mask, padding_mask):\n",
    "        seq_len = tf.shape(x)[1]\n",
    "        attention_weights = {}\n",
    "        \n",
    "        x = self.embedding(x) # (batch_size, target_seq_len, d_model)\n",
    "        x *= tf.math.sqrt(tf.cast(self.d_model, tf.float32))\n",
    "        x += self.pos_encoding[:, :seq_len, :]\n",
    "        \n",
    "        x = self.dropout(x, training=training)\n",
    "        \n",
    "        for _ in range(self.num_layers):\n",
    "            x, block1, block2 = self.dec_layers[_](x, enc_output, training, look_ahead_mask, padding_mask)\n",
    "            \n",
    "            attention_weights['decoder_layer{}_block1'.format(_+1)] = block1\n",
    "            attention_weights['decoder_layer{}_block2'.format(_+1)] = block2\n",
    "            \n",
    "        # x.shape == (batch_size, target_seq_len, d_model)\n",
    "        return x, attention_weights"
   ]
  },
  {
   "cell_type": "code",
   "execution_count": 53,
   "metadata": {},
   "outputs": [
    {
     "data": {
      "text/plain": [
       "(TensorShape([64, 26, 512]), TensorShape([64, 8, 26, 62]))"
      ]
     },
     "execution_count": 53,
     "metadata": {},
     "output_type": "execute_result"
    }
   ],
   "source": [
    "sample_decoder = Decoder(num_layers=2, d_model=512, num_heads=8, \n",
    "                         dff=2048, target_vocab_size=8000,\n",
    "                         maximum_position_encoding=5000)\n",
    "temp_input = tf.random.uniform((64, 26), dtype=tf.int64, minval=0, maxval=200)\n",
    "\n",
    "output, attn = sample_decoder(temp_input, \n",
    "                              enc_output=sample_encoder_output, \n",
    "                              training=False,\n",
    "                              look_ahead_mask=None, \n",
    "                              padding_mask=None)\n",
    "\n",
    "output.shape, attn['decoder_layer2_block2'].shape"
   ]
  },
  {
   "cell_type": "markdown",
   "metadata": {},
   "source": [
    "## Create the transformer"
   ]
  },
  {
   "cell_type": "code",
   "execution_count": 55,
   "metadata": {},
   "outputs": [],
   "source": [
    "class Transformer(tf.keras.Model):\n",
    "    def __init__(self, num_layers, d_model, num_heads, dff, input_vocab_size,\n",
    "                 target_vocab_size, pe_input, pe_target, rate=0.1, **kwargs):\n",
    "        super(Transformer, self).__init__(**kwargs)\n",
    "        \n",
    "        self.encoder = Encoder(num_layers, d_model, num_heads, dff, input_vocab_size, pe_input, rate)\n",
    "        self.decoder = Decoder(num_layers, d_model, num_heads, dff, target_vocab_size, pe_target, rate)\n",
    "        \n",
    "        self.final_layer = tf.keras.layers.Dense(target_vocab_size)\n",
    "        \n",
    "    def call(self, inp, targ, training, enc_padding_mask, look_ahead_mask, dec_padding_mask):\n",
    "        enc_output = self.encoder(inp, training, enc_padding_mask) # (batch_size, input_seq_len, d_model)\n",
    "        dec_output, attention_weights = self.decoder(\n",
    "            targ, enc_output, training, look_ahead_mask, dec_padding_mask) # (batch_size, target_seq_len ,d_model)\n",
    "        \n",
    "        final_output = self.final_layer(dec_output) # (batch_size, target_seq_len, target_vocab_size)\n",
    "        \n",
    "        return final_output, attention_weights"
   ]
  },
  {
   "cell_type": "code",
   "execution_count": 56,
   "metadata": {},
   "outputs": [
    {
     "data": {
      "text/plain": [
       "TensorShape([64, 36, 8000])"
      ]
     },
     "execution_count": 56,
     "metadata": {},
     "output_type": "execute_result"
    }
   ],
   "source": [
    "sample_transformer = Transformer(\n",
    "    num_layers=2, d_model=512, num_heads=8, dff=2048, \n",
    "    input_vocab_size=8500, target_vocab_size=8000, \n",
    "    pe_input=10000, pe_target=6000)\n",
    "\n",
    "temp_input = tf.random.uniform((64, 38), dtype=tf.int64, minval=0, maxval=200)\n",
    "temp_target = tf.random.uniform((64, 36), dtype=tf.int64, minval=0, maxval=200)\n",
    "\n",
    "fn_out, _ = sample_transformer(temp_input, temp_target, training=False, \n",
    "                               enc_padding_mask=None, \n",
    "                               look_ahead_mask=None,\n",
    "                               dec_padding_mask=None)\n",
    "\n",
    "fn_out.shape  # (batch_size, tar_seq_len, target_vocab_size)"
   ]
  },
  {
   "cell_type": "markdown",
   "metadata": {},
   "source": [
    "## Set hyperparameters"
   ]
  },
  {
   "cell_type": "code",
   "execution_count": 86,
   "metadata": {},
   "outputs": [],
   "source": [
    "NUM_LAYERS = 8\n",
    "D_MODEL = 128\n",
    "DFF = 512\n",
    "NUM_HEADS = 8\n",
    "\n",
    "input_vocab_size = tokenizer_pt.vocab_size + 2\n",
    "target_vocab_size = tokenizer_en.vocab_size + 2\n",
    "dropout_rate = 0.1"
   ]
  },
  {
   "cell_type": "markdown",
   "metadata": {},
   "source": [
    "## Optimizer"
   ]
  },
  {
   "cell_type": "code",
   "execution_count": 77,
   "metadata": {},
   "outputs": [],
   "source": [
    "class CustomSchedule(tf.keras.optimizers.schedules.LearningRateSchedule):\n",
    "    def __init__(self, d_model, warmup_steps=4000, **kwargs):\n",
    "        super(CustomSchedule, self).__init__(**kwargs)\n",
    "        \n",
    "        self.d_model = tf.cast(d_model, tf.float32)\n",
    "        \n",
    "        self.warmup_steps = warmup_steps\n",
    "        \n",
    "    def __call__(self, step):\n",
    "        arg1 = tf.math.rsqrt(step)\n",
    "        arg2 = step * (self.warmup_steps ** -1.5)\n",
    "        \n",
    "        return tf.math.rsqrt(self.d_model) * tf.math.minimum(arg1, arg2)"
   ]
  },
  {
   "cell_type": "code",
   "execution_count": 80,
   "metadata": {},
   "outputs": [],
   "source": [
    "learning_rate = CustomSchedule(D_MODEL)\n",
    "\n",
    "optimizer = tf.keras.optimizers.Adam(learning_rate, beta_1=0.9, beta_2=0.98, epsilon=1e-9)"
   ]
  },
  {
   "cell_type": "code",
   "execution_count": 82,
   "metadata": {},
   "outputs": [
    {
     "data": {
      "text/plain": [
       "Text(0.5, 0, 'Train Step')"
      ]
     },
     "execution_count": 82,
     "metadata": {},
     "output_type": "execute_result"
    },
    {
     "data": {
      "image/png": "[encoded data removed]",
      "text/plain": [
       "<Figure size 432x288 with 1 Axes>"
      ]
     },
     "metadata": {
      "needs_background": "light"
     },
     "output_type": "display_data"
    }
   ],
   "source": [
    "temp_learning_rate_schedule = CustomSchedule(D_MODEL)\n",
    "\n",
    "plt.plot(temp_learning_rate_schedule(tf.range(40000, dtype=tf.float32)))\n",
    "plt.ylabel(\"Learning Rate\")\n",
    "plt.xlabel(\"Train Step\")"
   ]
  },
  {
   "cell_type": "markdown",
   "metadata": {},
   "source": [
    "## Loss and metrics"
   ]
  },
  {
   "cell_type": "code",
   "execution_count": 83,
   "metadata": {},
   "outputs": [],
   "source": [
    "loss_object = tf.keras.losses.SparseCategoricalCrossentropy(from_logits=True, reduction='none')"
   ]
  },
  {
   "cell_type": "code",
   "execution_count": 84,
   "metadata": {},
   "outputs": [],
   "source": [
    "def loss_function(real, pred):\n",
    "    loss_ = loss_object(real, pred)\n",
    "    mask = tf.cast(tf.math.not_equal(real, 0), loss_.dtype)\n",
    "    loss_ *= mask\n",
    "    return tf.reduce_sum(loss_) / tf.reduce_sum(mask) # each token loss"
   ]
  },
  {
   "cell_type": "code",
   "execution_count": 85,
   "metadata": {},
   "outputs": [],
   "source": [
    "train_loss = tf.keras.metrics.Mean(name='train_loss')\n",
    "train_accuracy = tf.keras.metrics.SparseCategoricalAccuracy(name='train_accuracy')"
   ]
  },
  {
   "cell_type": "markdown",
   "metadata": {},
   "source": [
    "## Train and checkpointing"
   ]
  },
  {
   "cell_type": "code",
   "execution_count": 114,
   "metadata": {},
   "outputs": [],
   "source": [
    "transformer = Transformer(NUM_LAYERS, D_MODEL, NUM_HEADS, DFF,\n",
    "                          input_vocab_size, target_vocab_size,\n",
    "                          pe_input=input_vocab_size,\n",
    "                          pe_target=target_vocab_size,\n",
    "                          rate=dropout_rate)"
   ]
  },
  {
   "cell_type": "code",
   "execution_count": 104,
   "metadata": {},
   "outputs": [],
   "source": [
    "def create_mask(inp, targ):\n",
    "    # Encoder padding mask\n",
    "    enc_padding_mask = create_padding_mask(inp)\n",
    "    \n",
    "    # Used in the 2nd attention block in the decoder.\n",
    "    # This padding mask is used to mask the encoder outputs.\n",
    "    dec_padding_mask = create_padding_mask(inp)\n",
    "    \n",
    "    # Used in the 1st attention block in the decoder.\n",
    "    # It is used to pad and mask future tokens in the input received by the decoder.\n",
    "    look_ahead_mask = create_look_ahead_mask(tf.shape(targ)[1]) # [target_seq_len, target_seq_len]\n",
    "    dec_target_padding_mask = create_padding_mask(targ) # [BATCH_SIZE, 1, 1, target_seq_len]\n",
    "    combind_mask = tf.maximum(dec_target_padding_mask, look_ahead_mask) # [BATCH_SIZE, 1, target_seq_len, target_seq_len]\n",
    "    \n",
    "    return enc_padding_mask, combind_mask, dec_padding_mask"
   ]
  },
  {
   "cell_type": "code",
   "execution_count": 105,
   "metadata": {},
   "outputs": [],
   "source": [
    "checkpoint_path = './checkpoint/train'\n",
    "\n",
    "ckpt = tf.train.Checkpoint(transformer=transformer, optimizer=optimizer)\n",
    "\n",
    "ckpt_manager = tf.train.CheckpointManager(ckpt, checkpoint_path, max_to_keep=5)\n",
    "\n",
    "# if a checkpoint exists, restore the latest checkpoint\n",
    "if ckpt_manager.latest_checkpoint:\n",
    "    ckpt.restore(ckpt_manager.latest_checkpoint)\n",
    "    print('Latest checkpoint restored!!')"
   ]
  },
  {
   "cell_type": "markdown",
   "metadata": {},
   "source": [
    "The target is divided into tar_inp and tar_real. tar_inp is passed as an input to the decoder. `tar_real` is that same input shifted by 1: At each location in `tar_input`, `tar_real` contains the next token that should be predicted.\n",
    "\n",
    "For example, `sentence` = \"SOS A lion in the jungle is sleeping EOS\"\n",
    "\n",
    "`tar_inp` = \"SOS A lion in the jungle is sleeping\"\n",
    "\n",
    "`tar_real` = \"A lion in the jungle is sleeping EOS\""
   ]
  },
  {
   "cell_type": "markdown",
   "metadata": {},
   "source": [
    "The transformer is an auto-regressive model: it makes predictions one part at a time, and uses its output so far to decide what to do next.\n",
    "\n",
    "During training this example uses teacher-forcing. Teacher forcing is passing the true output to the next time step regardless of what the model predicts at the current time step.\n",
    "\n",
    "As the transformer predicts each word, self-attention allows it to look at the previous words in the input sequence to better predict the next word.\n",
    "\n",
    "To prevent the model from peaking at the expected output the model uses a look-ahead mask."
   ]
  },
  {
   "cell_type": "code",
   "execution_count": 117,
   "metadata": {},
   "outputs": [],
   "source": [
    "EPOCHS = 20\n",
    "\n",
    "# The @tf.function trace-compiles train_step into a TF graph for faster\n",
    "# execution. The function specializes to the precise shape of the argument\n",
    "# tensors. To avoid re-tracing due to the variable sequence lengths or variable\n",
    "# batch sizes (the last batch is smaller), use input_signature to specify\n",
    "# more generic shapes.\n",
    "\n",
    "train_step_signature = [\n",
    "    tf.TensorSpec(shape=(None, None), dtype=tf.int64),\n",
    "    tf.TensorSpec(shape=(None, None), dtype=tf.int64),\n",
    "]\n",
    "\n",
    "@tf.function(input_signature=train_step_signature)\n",
    "def train_step(inp, tar):\n",
    "    tar_inp = tar[:, :-1] # (batch_size, target_seq_len - 1)\n",
    "    tar_real = tar[:, 1:] # (batch_size, target_seq_len - 1)\n",
    "\n",
    "    enc_padding_mask, combined_mask, dec_padding_mask = create_mask(inp, tar_inp)\n",
    "\n",
    "    with tf.GradientTape() as tape:\n",
    "        predictions, _ = transformer(inp, tar_inp,\n",
    "                                     training=True, \n",
    "                                     enc_padding_mask=enc_padding_mask,\n",
    "                                     look_ahead_mask=combined_mask,\n",
    "                                     dec_padding_mask=dec_padding_mask)\n",
    "        loss = loss_function(tar_real, predictions)\n",
    "    \n",
    "    gradients = tape.gradient(loss, transformer.trainable_variables)    \n",
    "    optimizer.apply_gradients(zip(gradients, transformer.trainable_variables))\n",
    "  \n",
    "    train_loss(loss)\n",
    "    train_accuracy(tar_real, predictions)"
   ]
  },
  {
   "cell_type": "code",
   "execution_count": 130,
   "metadata": {
    "scrolled": false
   },
   "outputs": [
    {
     "name": "stdout",
     "output_type": "stream",
     "text": [
      "Epoch 1 Batch 0 Loss 9.0165 Accuracy 0.0000\n",
      "Epoch 1 Batch 50 Loss 7.0034 Accuracy 0.0248\n",
      "Epoch 1 Batch 100 Loss 6.7617 Accuracy 0.0258\n",
      "Epoch 1 Batch 150 Loss 6.6741 Accuracy 0.0261\n",
      "Epoch 1 Batch 200 Loss 6.6318 Accuracy 0.0263\n",
      "Epoch 1 Batch 250 Loss 6.6035 Accuracy 0.0265\n",
      "Epoch 1 Batch 300 Loss 6.5829 Accuracy 0.0266\n",
      "Epoch 1 Batch 350 Loss 6.5672 Accuracy 0.0266\n",
      "Epoch 1 Batch 400 Loss 6.5588 Accuracy 0.0266\n",
      "Epoch 1 Batch 450 Loss 6.5513 Accuracy 0.0266\n",
      "Epoch 1 Batch 500 Loss 6.5439 Accuracy 0.0267\n",
      "Epoch 1 Batch 550 Loss 6.5376 Accuracy 0.0267\n",
      "Epoch 1 Batch 600 Loss 6.5322 Accuracy 0.0267\n",
      "Epoch 1 Batch 650 Loss 6.5269 Accuracy 0.0267\n",
      "Epoch 1 Batch 700 Loss 6.5228 Accuracy 0.0268\n",
      "Saving checkpoint for epoch 1 at ./checkpoint/train/ckpt-5\n",
      "Epoch 1 Loss 6.5225 Accuracy 0.0268\n",
      "Time taken for 1 epoch: 90.27151536941528 sec\n",
      "\n",
      "Epoch 2 Batch 0 Loss 6.4266 Accuracy 0.0274\n",
      "Epoch 2 Batch 50 Loss 6.4615 Accuracy 0.0271\n",
      "Epoch 2 Batch 100 Loss 6.4634 Accuracy 0.0272\n",
      "Epoch 2 Batch 150 Loss 6.4532 Accuracy 0.0275\n",
      "Epoch 2 Batch 200 Loss 6.4510 Accuracy 0.0276\n",
      "Epoch 2 Batch 250 Loss 6.4494 Accuracy 0.0278\n",
      "Epoch 2 Batch 300 Loss 6.4502 Accuracy 0.0278\n",
      "Epoch 2 Batch 350 Loss 6.4483 Accuracy 0.0280\n",
      "Epoch 2 Batch 400 Loss 6.4451 Accuracy 0.0283\n",
      "Epoch 2 Batch 450 Loss 6.4407 Accuracy 0.0286\n",
      "Epoch 2 Batch 500 Loss 6.4340 Accuracy 0.0290\n",
      "Epoch 2 Batch 550 Loss 6.4301 Accuracy 0.0294\n",
      "Epoch 2 Batch 600 Loss 6.4258 Accuracy 0.0297\n",
      "Epoch 2 Batch 650 Loss 6.4221 Accuracy 0.0301\n",
      "Epoch 2 Batch 700 Loss 6.4163 Accuracy 0.0305\n",
      "Epoch 2 Loss 6.4160 Accuracy 0.0305\n",
      "Time taken for 1 epoch: 74.33546829223633 sec\n",
      "\n",
      "Epoch 3 Batch 0 Loss 6.3816 Accuracy 0.0377\n",
      "Epoch 3 Batch 50 Loss 6.3296 Accuracy 0.0350\n",
      "Epoch 3 Batch 100 Loss 6.3357 Accuracy 0.0356\n",
      "Epoch 3 Batch 150 Loss 6.3360 Accuracy 0.0357\n",
      "Epoch 3 Batch 200 Loss 6.3335 Accuracy 0.0358\n",
      "Epoch 3 Batch 250 Loss 6.3269 Accuracy 0.0361\n",
      "Epoch 3 Batch 300 Loss 6.3231 Accuracy 0.0364\n",
      "Epoch 3 Batch 350 Loss 6.3220 Accuracy 0.0366\n",
      "Epoch 3 Batch 400 Loss 6.3202 Accuracy 0.0369\n",
      "Epoch 3 Batch 450 Loss 6.3177 Accuracy 0.0370\n",
      "Epoch 3 Batch 500 Loss 6.3142 Accuracy 0.0372\n",
      "Epoch 3 Batch 550 Loss 6.3124 Accuracy 0.0373\n",
      "Epoch 3 Batch 600 Loss 6.3102 Accuracy 0.0374\n",
      "Epoch 3 Batch 650 Loss 6.3085 Accuracy 0.0376\n",
      "Epoch 3 Batch 700 Loss 6.3067 Accuracy 0.0377\n",
      "Epoch 3 Loss 6.3067 Accuracy 0.0377\n",
      "Time taken for 1 epoch: 74.33576726913452 sec\n",
      "\n",
      "Epoch 4 Batch 0 Loss 6.2620 Accuracy 0.0411\n",
      "Epoch 4 Batch 50 Loss 6.2746 Accuracy 0.0391\n",
      "Epoch 4 Batch 100 Loss 6.2742 Accuracy 0.0391\n",
      "Epoch 4 Batch 150 Loss 6.2788 Accuracy 0.0391\n",
      "Epoch 4 Batch 200 Loss 6.2753 Accuracy 0.0393\n",
      "Epoch 4 Batch 250 Loss 6.2738 Accuracy 0.0394\n",
      "Epoch 4 Batch 300 Loss 6.2738 Accuracy 0.0395\n",
      "Epoch 4 Batch 350 Loss 6.2713 Accuracy 0.0395\n",
      "Epoch 4 Batch 400 Loss 6.2696 Accuracy 0.0396\n",
      "Epoch 4 Batch 450 Loss 6.2709 Accuracy 0.0397\n",
      "Epoch 4 Batch 500 Loss 6.2717 Accuracy 0.0397\n",
      "Epoch 4 Batch 550 Loss 6.2709 Accuracy 0.0397\n",
      "Epoch 4 Batch 600 Loss 6.2700 Accuracy 0.0397\n",
      "Epoch 4 Batch 650 Loss 6.2699 Accuracy 0.0397\n",
      "Epoch 4 Batch 700 Loss 6.2690 Accuracy 0.0397\n",
      "Epoch 4 Loss 6.2692 Accuracy 0.0397\n",
      "Time taken for 1 epoch: 74.72383308410645 sec\n",
      "\n",
      "Epoch 5 Batch 0 Loss 6.1716 Accuracy 0.0451\n",
      "Epoch 5 Batch 50 Loss 6.2348 Accuracy 0.0404\n",
      "Epoch 5 Batch 100 Loss 6.2458 Accuracy 0.0405\n",
      "Epoch 5 Batch 150 Loss 6.2410 Accuracy 0.0409\n",
      "Epoch 5 Batch 200 Loss 6.2375 Accuracy 0.0412\n",
      "Epoch 5 Batch 250 Loss 6.2428 Accuracy 0.0411\n",
      "Epoch 5 Batch 300 Loss 6.2427 Accuracy 0.0413\n",
      "Epoch 5 Batch 350 Loss 6.2449 Accuracy 0.0413\n",
      "Epoch 5 Batch 400 Loss 6.2436 Accuracy 0.0414\n",
      "Epoch 5 Batch 450 Loss 6.2396 Accuracy 0.0415\n",
      "Epoch 5 Batch 500 Loss 6.2370 Accuracy 0.0416\n",
      "Epoch 5 Batch 550 Loss 6.2363 Accuracy 0.0417\n",
      "Epoch 5 Batch 600 Loss 6.2370 Accuracy 0.0416\n",
      "Epoch 5 Batch 650 Loss 6.2357 Accuracy 0.0418\n",
      "Epoch 5 Batch 700 Loss 6.2341 Accuracy 0.0419\n",
      "Epoch 5 Loss 6.2342 Accuracy 0.0419\n",
      "Time taken for 1 epoch: 74.47616124153137 sec\n",
      "\n",
      "Epoch 6 Batch 0 Loss 6.2211 Accuracy 0.0421\n",
      "Epoch 6 Batch 50 Loss 6.2047 Accuracy 0.0442\n",
      "Epoch 6 Batch 100 Loss 6.2044 Accuracy 0.0438\n",
      "Epoch 6 Batch 150 Loss 6.2341 Accuracy 0.0417\n",
      "Epoch 6 Batch 200 Loss 6.2412 Accuracy 0.0412\n",
      "Epoch 6 Batch 250 Loss 6.2478 Accuracy 0.0411\n",
      "Epoch 6 Batch 300 Loss 6.2494 Accuracy 0.0410\n",
      "Epoch 6 Batch 350 Loss 6.2483 Accuracy 0.0410\n",
      "Epoch 6 Batch 400 Loss 6.2464 Accuracy 0.0410\n",
      "Epoch 6 Batch 450 Loss 6.2459 Accuracy 0.0410\n",
      "Epoch 6 Batch 500 Loss 6.2454 Accuracy 0.0410\n",
      "Epoch 6 Batch 550 Loss 6.2458 Accuracy 0.0410\n",
      "Epoch 6 Batch 600 Loss 6.2446 Accuracy 0.0410\n",
      "Epoch 6 Batch 650 Loss 6.2452 Accuracy 0.0409\n",
      "Epoch 6 Batch 700 Loss 6.2433 Accuracy 0.0409\n",
      "Saving checkpoint for epoch 6 at ./checkpoint/train/ckpt-6\n",
      "Epoch 6 Loss 6.2429 Accuracy 0.0409\n",
      "Time taken for 1 epoch: 74.4877290725708 sec\n",
      "\n",
      "Epoch 7 Batch 0 Loss 6.2084 Accuracy 0.0387\n",
      "Epoch 7 Batch 50 Loss 6.2166 Accuracy 0.0410\n",
      "Epoch 7 Batch 100 Loss 6.2259 Accuracy 0.0410\n",
      "Epoch 7 Batch 150 Loss 6.2285 Accuracy 0.0413\n",
      "Epoch 7 Batch 200 Loss 6.2292 Accuracy 0.0414\n",
      "Epoch 7 Batch 250 Loss 6.2316 Accuracy 0.0414\n",
      "Epoch 7 Batch 300 Loss 6.2320 Accuracy 0.0415\n",
      "Epoch 7 Batch 350 Loss 6.2314 Accuracy 0.0415\n",
      "Epoch 7 Batch 400 Loss 6.2277 Accuracy 0.0416\n",
      "Epoch 7 Batch 450 Loss 6.2301 Accuracy 0.0415\n",
      "Epoch 7 Batch 500 Loss 6.2309 Accuracy 0.0415\n",
      "Epoch 7 Batch 550 Loss 6.2309 Accuracy 0.0415\n",
      "Epoch 7 Batch 600 Loss 6.2305 Accuracy 0.0414\n",
      "Epoch 7 Batch 650 Loss 6.2307 Accuracy 0.0415\n",
      "Epoch 7 Batch 700 Loss 6.2308 Accuracy 0.0416\n",
      "Epoch 7 Loss 6.2306 Accuracy 0.0416\n",
      "Time taken for 1 epoch: 74.14487624168396 sec\n",
      "\n",
      "Epoch 8 Batch 0 Loss 6.0898 Accuracy 0.0511\n",
      "Epoch 8 Batch 50 Loss 6.2175 Accuracy 0.0425\n",
      "Epoch 8 Batch 100 Loss 6.2261 Accuracy 0.0422\n",
      "Epoch 8 Batch 150 Loss 6.2220 Accuracy 0.0417\n",
      "Epoch 8 Batch 200 Loss 6.2217 Accuracy 0.0419\n",
      "Epoch 8 Batch 250 Loss 6.2217 Accuracy 0.0417\n",
      "Epoch 8 Batch 300 Loss 6.2208 Accuracy 0.0418\n",
      "Epoch 8 Batch 350 Loss 6.2198 Accuracy 0.0418\n",
      "Epoch 8 Batch 400 Loss 6.2211 Accuracy 0.0418\n",
      "Epoch 8 Batch 450 Loss 6.2213 Accuracy 0.0418\n",
      "Epoch 8 Batch 500 Loss 6.2215 Accuracy 0.0418\n",
      "Epoch 8 Batch 550 Loss 6.2217 Accuracy 0.0418\n",
      "Epoch 8 Batch 600 Loss 6.2216 Accuracy 0.0419\n",
      "Epoch 8 Batch 650 Loss 6.2211 Accuracy 0.0419\n",
      "Epoch 8 Batch 700 Loss 6.2217 Accuracy 0.0420\n",
      "Epoch 8 Loss 6.2219 Accuracy 0.0420\n",
      "Time taken for 1 epoch: 74.46008038520813 sec\n",
      "\n",
      "Epoch 9 Batch 0 Loss 6.1696 Accuracy 0.0437\n",
      "Epoch 9 Batch 50 Loss 6.2035 Accuracy 0.0430\n",
      "Epoch 9 Batch 100 Loss 6.2172 Accuracy 0.0427\n",
      "Epoch 9 Batch 150 Loss 6.2005 Accuracy 0.0429\n",
      "Epoch 9 Batch 200 Loss 6.2022 Accuracy 0.0428\n",
      "Epoch 9 Batch 250 Loss 6.2011 Accuracy 0.0427\n",
      "Epoch 9 Batch 300 Loss 6.2007 Accuracy 0.0428\n",
      "Epoch 9 Batch 350 Loss 6.2030 Accuracy 0.0427\n",
      "Epoch 9 Batch 400 Loss 6.2051 Accuracy 0.0427\n",
      "Epoch 9 Batch 450 Loss 6.2024 Accuracy 0.0427\n",
      "Epoch 9 Batch 500 Loss 6.2046 Accuracy 0.0429\n",
      "Epoch 9 Batch 550 Loss 6.2055 Accuracy 0.0429\n",
      "Epoch 9 Batch 600 Loss 6.2067 Accuracy 0.0429\n",
      "Epoch 9 Batch 650 Loss 6.2082 Accuracy 0.0427\n",
      "Epoch 9 Batch 700 Loss 6.2093 Accuracy 0.0427\n",
      "Epoch 9 Loss 6.2092 Accuracy 0.0427\n",
      "Time taken for 1 epoch: 74.67027568817139 sec\n",
      "\n",
      "Epoch 10 Batch 0 Loss 6.0806 Accuracy 0.0428\n",
      "Epoch 10 Batch 50 Loss 6.1960 Accuracy 0.0430\n",
      "Epoch 10 Batch 100 Loss 6.1966 Accuracy 0.0434\n",
      "Epoch 10 Batch 150 Loss 6.1951 Accuracy 0.0433\n",
      "Epoch 10 Batch 200 Loss 6.2003 Accuracy 0.0430\n",
      "Epoch 10 Batch 250 Loss 6.2023 Accuracy 0.0427\n",
      "Epoch 10 Batch 300 Loss 6.1985 Accuracy 0.0429\n",
      "Epoch 10 Batch 350 Loss 6.1956 Accuracy 0.0429\n",
      "Epoch 10 Batch 400 Loss 6.1964 Accuracy 0.0428\n",
      "Epoch 10 Batch 450 Loss 6.1980 Accuracy 0.0429\n",
      "Epoch 10 Batch 500 Loss 6.2011 Accuracy 0.0429\n",
      "Epoch 10 Batch 550 Loss 6.2000 Accuracy 0.0428\n",
      "Epoch 10 Batch 600 Loss 6.2005 Accuracy 0.0429\n",
      "Epoch 10 Batch 650 Loss 6.2016 Accuracy 0.0430\n",
      "Epoch 10 Batch 700 Loss 6.2012 Accuracy 0.0430\n",
      "Epoch 10 Loss 6.2011 Accuracy 0.0430\n",
      "Time taken for 1 epoch: 74.21350121498108 sec\n",
      "\n",
      "Epoch 11 Batch 0 Loss 6.2686 Accuracy 0.0428\n",
      "Epoch 11 Batch 50 Loss 6.1857 Accuracy 0.0429\n",
      "Epoch 11 Batch 100 Loss 6.1830 Accuracy 0.0429\n",
      "Epoch 11 Batch 150 Loss 6.1839 Accuracy 0.0431\n",
      "Epoch 11 Batch 200 Loss 6.1827 Accuracy 0.0433\n",
      "Epoch 11 Batch 250 Loss 6.1846 Accuracy 0.0434\n",
      "Epoch 11 Batch 300 Loss 6.1859 Accuracy 0.0434\n",
      "Epoch 11 Batch 350 Loss 6.1860 Accuracy 0.0434\n"
     ]
    },
    {
     "name": "stdout",
     "output_type": "stream",
     "text": [
      "Epoch 11 Batch 400 Loss 6.1885 Accuracy 0.0434\n",
      "Epoch 11 Batch 450 Loss 6.1890 Accuracy 0.0435\n",
      "Epoch 11 Batch 500 Loss 6.1890 Accuracy 0.0434\n",
      "Epoch 11 Batch 550 Loss 6.1902 Accuracy 0.0435\n",
      "Epoch 11 Batch 600 Loss 6.1923 Accuracy 0.0435\n",
      "Epoch 11 Batch 650 Loss 6.1918 Accuracy 0.0435\n",
      "Epoch 11 Batch 700 Loss 6.1924 Accuracy 0.0435\n",
      "Saving checkpoint for epoch 11 at ./checkpoint/train/ckpt-7\n",
      "Epoch 11 Loss 6.1925 Accuracy 0.0435\n",
      "Time taken for 1 epoch: 74.77364444732666 sec\n",
      "\n",
      "Epoch 12 Batch 0 Loss 6.2430 Accuracy 0.0421\n",
      "Epoch 12 Batch 50 Loss 6.1678 Accuracy 0.0442\n",
      "Epoch 12 Batch 100 Loss 6.1807 Accuracy 0.0437\n",
      "Epoch 12 Batch 150 Loss 6.1826 Accuracy 0.0435\n",
      "Epoch 12 Batch 200 Loss 6.1816 Accuracy 0.0435\n",
      "Epoch 12 Batch 250 Loss 6.1821 Accuracy 0.0435\n",
      "Epoch 12 Batch 300 Loss 6.1832 Accuracy 0.0433\n",
      "Epoch 12 Batch 350 Loss 6.1845 Accuracy 0.0434\n",
      "Epoch 12 Batch 400 Loss 6.1855 Accuracy 0.0435\n",
      "Epoch 12 Batch 450 Loss 6.1850 Accuracy 0.0434\n",
      "Epoch 12 Batch 500 Loss 6.1857 Accuracy 0.0435\n",
      "Epoch 12 Batch 550 Loss 6.1883 Accuracy 0.0435\n",
      "Epoch 12 Batch 600 Loss 6.1875 Accuracy 0.0435\n",
      "Epoch 12 Batch 650 Loss 6.1856 Accuracy 0.0437\n",
      "Epoch 12 Batch 700 Loss 6.1855 Accuracy 0.0437\n",
      "Epoch 12 Loss 6.1855 Accuracy 0.0437\n",
      "Time taken for 1 epoch: 74.40181565284729 sec\n",
      "\n",
      "Epoch 13 Batch 0 Loss 6.1715 Accuracy 0.0449\n",
      "Epoch 13 Batch 50 Loss 6.1834 Accuracy 0.0436\n",
      "Epoch 13 Batch 100 Loss 6.1828 Accuracy 0.0440\n",
      "Epoch 13 Batch 150 Loss 6.1830 Accuracy 0.0441\n",
      "Epoch 13 Batch 200 Loss 6.1779 Accuracy 0.0444\n",
      "Epoch 13 Batch 250 Loss 6.1775 Accuracy 0.0441\n",
      "Epoch 13 Batch 300 Loss 6.1790 Accuracy 0.0441\n",
      "Epoch 13 Batch 350 Loss 6.1793 Accuracy 0.0440\n",
      "Epoch 13 Batch 400 Loss 6.1793 Accuracy 0.0440\n",
      "Epoch 13 Batch 450 Loss 6.1800 Accuracy 0.0441\n",
      "Epoch 13 Batch 500 Loss 6.1824 Accuracy 0.0441\n",
      "Epoch 13 Batch 550 Loss 6.1835 Accuracy 0.0441\n",
      "Epoch 13 Batch 600 Loss 6.1822 Accuracy 0.0440\n",
      "Epoch 13 Batch 650 Loss 6.1826 Accuracy 0.0441\n",
      "Epoch 13 Batch 700 Loss 6.1818 Accuracy 0.0440\n",
      "Epoch 13 Loss 6.1816 Accuracy 0.0441\n",
      "Time taken for 1 epoch: 74.7404236793518 sec\n",
      "\n",
      "Epoch 14 Batch 0 Loss 6.1841 Accuracy 0.0464\n",
      "Epoch 14 Batch 50 Loss 6.1715 Accuracy 0.0443\n",
      "Epoch 14 Batch 100 Loss 6.1657 Accuracy 0.0441\n",
      "Epoch 14 Batch 150 Loss 6.1689 Accuracy 0.0441\n",
      "Epoch 14 Batch 200 Loss 6.1687 Accuracy 0.0440\n",
      "Epoch 14 Batch 250 Loss 6.1696 Accuracy 0.0440\n",
      "Epoch 14 Batch 300 Loss 6.1719 Accuracy 0.0439\n",
      "Epoch 14 Batch 350 Loss 6.1747 Accuracy 0.0438\n",
      "Epoch 14 Batch 400 Loss 6.1758 Accuracy 0.0440\n",
      "Epoch 14 Batch 450 Loss 6.1768 Accuracy 0.0440\n",
      "Epoch 14 Batch 500 Loss 6.1780 Accuracy 0.0440\n",
      "Epoch 14 Batch 550 Loss 6.1787 Accuracy 0.0441\n",
      "Epoch 14 Batch 600 Loss 6.1789 Accuracy 0.0440\n",
      "Epoch 14 Batch 650 Loss 6.1773 Accuracy 0.0441\n",
      "Epoch 14 Batch 700 Loss 6.1790 Accuracy 0.0441\n",
      "Epoch 14 Loss 6.1790 Accuracy 0.0441\n",
      "Time taken for 1 epoch: 74.13521456718445 sec\n",
      "\n",
      "Epoch 15 Batch 0 Loss 5.9996 Accuracy 0.0451\n",
      "Epoch 15 Batch 50 Loss 6.1506 Accuracy 0.0448\n",
      "Epoch 15 Batch 100 Loss 6.1529 Accuracy 0.0458\n",
      "Epoch 15 Batch 150 Loss 6.1576 Accuracy 0.0464\n",
      "Epoch 15 Batch 200 Loss 6.1532 Accuracy 0.0476\n",
      "Epoch 15 Batch 250 Loss 6.1510 Accuracy 0.0488\n",
      "Epoch 15 Batch 300 Loss 6.1486 Accuracy 0.0501\n",
      "Epoch 15 Batch 350 Loss 6.1473 Accuracy 0.0512\n",
      "Epoch 15 Batch 400 Loss 6.1425 Accuracy 0.0522\n",
      "Epoch 15 Batch 450 Loss 6.1378 Accuracy 0.0530\n",
      "Epoch 15 Batch 500 Loss 6.1344 Accuracy 0.0537\n",
      "Epoch 15 Batch 550 Loss 6.1307 Accuracy 0.0541\n",
      "Epoch 15 Batch 600 Loss 6.1290 Accuracy 0.0544\n",
      "Epoch 15 Batch 650 Loss 6.1268 Accuracy 0.0548\n",
      "Epoch 15 Batch 700 Loss 6.1255 Accuracy 0.0550\n",
      "Epoch 15 Loss 6.1255 Accuracy 0.0550\n",
      "Time taken for 1 epoch: 74.26576113700867 sec\n",
      "\n",
      "Epoch 16 Batch 0 Loss 6.1158 Accuracy 0.0533\n",
      "Epoch 16 Batch 50 Loss 6.0761 Accuracy 0.0588\n",
      "Epoch 16 Batch 100 Loss 6.0867 Accuracy 0.0587\n",
      "Epoch 16 Batch 150 Loss 6.0843 Accuracy 0.0587\n",
      "Epoch 16 Batch 200 Loss 6.0841 Accuracy 0.0587\n",
      "Epoch 16 Batch 250 Loss 6.0813 Accuracy 0.0586\n",
      "Epoch 16 Batch 300 Loss 6.0855 Accuracy 0.0581\n",
      "Epoch 16 Batch 350 Loss 6.0882 Accuracy 0.0569\n",
      "Epoch 16 Batch 400 Loss 6.0889 Accuracy 0.0564\n",
      "Epoch 16 Batch 450 Loss 6.0879 Accuracy 0.0564\n",
      "Epoch 16 Batch 500 Loss 6.0903 Accuracy 0.0563\n",
      "Epoch 16 Batch 550 Loss 6.0895 Accuracy 0.0562\n",
      "Epoch 16 Batch 600 Loss 6.0895 Accuracy 0.0560\n",
      "Epoch 16 Batch 650 Loss 6.0893 Accuracy 0.0562\n",
      "Epoch 16 Batch 700 Loss 6.0886 Accuracy 0.0564\n",
      "Saving checkpoint for epoch 16 at ./checkpoint/train/ckpt-8\n",
      "Epoch 16 Loss 6.0886 Accuracy 0.0564\n",
      "Time taken for 1 epoch: 74.83199620246887 sec\n",
      "\n",
      "Epoch 17 Batch 0 Loss 6.1344 Accuracy 0.0498\n",
      "Epoch 17 Batch 50 Loss 6.0905 Accuracy 0.0543\n",
      "Epoch 17 Batch 100 Loss 6.0741 Accuracy 0.0562\n",
      "Epoch 17 Batch 150 Loss 6.0689 Accuracy 0.0563\n",
      "Epoch 17 Batch 200 Loss 6.0740 Accuracy 0.0562\n",
      "Epoch 17 Batch 250 Loss 6.0774 Accuracy 0.0562\n",
      "Epoch 17 Batch 300 Loss 6.0817 Accuracy 0.0555\n",
      "Epoch 17 Batch 350 Loss 6.0830 Accuracy 0.0551\n",
      "Epoch 17 Batch 400 Loss 6.0814 Accuracy 0.0549\n",
      "Epoch 17 Batch 450 Loss 6.0835 Accuracy 0.0547\n",
      "Epoch 17 Batch 500 Loss 6.0837 Accuracy 0.0546\n",
      "Epoch 17 Batch 550 Loss 6.0864 Accuracy 0.0549\n",
      "Epoch 17 Batch 600 Loss 6.0840 Accuracy 0.0555\n",
      "Epoch 17 Batch 650 Loss 6.0838 Accuracy 0.0560\n",
      "Epoch 17 Batch 700 Loss 6.0858 Accuracy 0.0559\n",
      "Epoch 17 Loss 6.0860 Accuracy 0.0559\n",
      "Time taken for 1 epoch: 74.64208221435547 sec\n",
      "\n",
      "Epoch 18 Batch 0 Loss 6.2118 Accuracy 0.0530\n",
      "Epoch 18 Batch 50 Loss 6.1082 Accuracy 0.0546\n",
      "Epoch 18 Batch 100 Loss 6.0878 Accuracy 0.0562\n",
      "Epoch 18 Batch 150 Loss 6.0981 Accuracy 0.0556\n",
      "Epoch 18 Batch 200 Loss 6.0941 Accuracy 0.0547\n",
      "Epoch 18 Batch 250 Loss 6.1024 Accuracy 0.0536\n",
      "Epoch 18 Batch 300 Loss 6.1156 Accuracy 0.0522\n",
      "Epoch 18 Batch 350 Loss 6.1252 Accuracy 0.0509\n",
      "Epoch 18 Batch 400 Loss 6.1313 Accuracy 0.0501\n",
      "Epoch 18 Batch 450 Loss 6.1339 Accuracy 0.0495\n",
      "Epoch 18 Batch 500 Loss 6.1381 Accuracy 0.0489\n",
      "Epoch 18 Batch 550 Loss 6.1415 Accuracy 0.0484\n",
      "Epoch 18 Batch 600 Loss 6.1450 Accuracy 0.0481\n",
      "Epoch 18 Batch 650 Loss 6.1485 Accuracy 0.0477\n",
      "Epoch 18 Batch 700 Loss 6.1508 Accuracy 0.0475\n",
      "Epoch 18 Loss 6.1508 Accuracy 0.0475\n",
      "Time taken for 1 epoch: 74.27783799171448 sec\n",
      "\n",
      "Epoch 19 Batch 0 Loss 6.2135 Accuracy 0.0429\n",
      "Epoch 19 Batch 50 Loss 6.1795 Accuracy 0.0446\n",
      "Epoch 19 Batch 100 Loss 6.1685 Accuracy 0.0453\n",
      "Epoch 19 Batch 150 Loss 6.1690 Accuracy 0.0450\n",
      "Epoch 19 Batch 200 Loss 6.1684 Accuracy 0.0452\n",
      "Epoch 19 Batch 250 Loss 6.1644 Accuracy 0.0450\n",
      "Epoch 19 Batch 300 Loss 6.1654 Accuracy 0.0449\n",
      "Epoch 19 Batch 350 Loss 6.1653 Accuracy 0.0448\n",
      "Epoch 19 Batch 400 Loss 6.1655 Accuracy 0.0449\n",
      "Epoch 19 Batch 450 Loss 6.1658 Accuracy 0.0448\n",
      "Epoch 19 Batch 500 Loss 6.1635 Accuracy 0.0452\n",
      "Epoch 19 Batch 550 Loss 6.1577 Accuracy 0.0457\n",
      "Epoch 19 Batch 600 Loss 6.1499 Accuracy 0.0463\n",
      "Epoch 19 Batch 650 Loss 6.1438 Accuracy 0.0472\n",
      "Epoch 19 Batch 700 Loss 6.1405 Accuracy 0.0480\n",
      "Epoch 19 Loss 6.1402 Accuracy 0.0480\n",
      "Time taken for 1 epoch: 74.42671632766724 sec\n",
      "\n",
      "Epoch 20 Batch 0 Loss 6.1178 Accuracy 0.0688\n",
      "Epoch 20 Batch 50 Loss 6.0623 Accuracy 0.0574\n",
      "Epoch 20 Batch 100 Loss 6.0578 Accuracy 0.0567\n",
      "Epoch 20 Batch 150 Loss 6.0655 Accuracy 0.0554\n",
      "Epoch 20 Batch 200 Loss 6.0624 Accuracy 0.0545\n",
      "Epoch 20 Batch 250 Loss 6.0588 Accuracy 0.0537\n",
      "Epoch 20 Batch 300 Loss 6.0614 Accuracy 0.0533\n",
      "Epoch 20 Batch 350 Loss 6.0639 Accuracy 0.0527\n",
      "Epoch 20 Batch 400 Loss 6.0612 Accuracy 0.0525\n",
      "Epoch 20 Batch 450 Loss 6.0588 Accuracy 0.0524\n",
      "Epoch 20 Batch 500 Loss 6.0602 Accuracy 0.0522\n",
      "Epoch 20 Batch 550 Loss 6.0597 Accuracy 0.0521\n",
      "Epoch 20 Batch 600 Loss 6.0596 Accuracy 0.0520\n",
      "Epoch 20 Batch 650 Loss 6.0604 Accuracy 0.0519\n",
      "Epoch 20 Batch 700 Loss 6.0589 Accuracy 0.0518\n",
      "Epoch 20 Loss 6.0585 Accuracy 0.0518\n",
      "Time taken for 1 epoch: 74.25125861167908 sec\n",
      "\n"
     ]
    }
   ],
   "source": [
    "for epoch in range(EPOCHS):\n",
    "    start = time.time()\n",
    "    \n",
    "    train_loss.reset_states()\n",
    "    train_accuracy.reset_states()\n",
    "    \n",
    "    # inp -> portuguese, targ -> english\n",
    "    for (batch_idx, (inp, targ)) in enumerate(train_dataset):\n",
    "        train_step(inp, targ)\n",
    "        \n",
    "        if batch_idx % 50 == 0:\n",
    "            print('Epoch {} Batch {} Loss {:.4f} Accuracy {:.4f}'.format(epoch+1, batch_idx, train_loss.result(), train_accuracy.result()))\n",
    "            \n",
    "    if epoch % 5 == 0:\n",
    "        ckpt_save_path = ckpt_manager.save()\n",
    "        print('Saving checkpoint for epoch {} at {}'.format(epoch+1, ckpt_save_path))\n",
    "        \n",
    "    print('Epoch {} Loss {:.4f} Accuracy {:.4f}'.format(epoch+1, train_loss.result(), train_accuracy.result()))\n",
    "    print('Time taken for 1 epoch: {} sec\\n'.format(time.time() - start))"
   ]
  },
  {
   "cell_type": "markdown",
   "metadata": {},
   "source": [
    "## Evaluate"
   ]
  },
  {
   "cell_type": "code",
   "execution_count": 144,
   "metadata": {},
   "outputs": [],
   "source": [
    "def evaluate(inp_sentence):\n",
    "    start_token = [tokenizer_pt.vocab_size]\n",
    "    end_token = [tokenizer_pt.vocab_size + 1]\n",
    "    \n",
    "    # inp sentence is portuguese, hence adding the start and end token\n",
    "    inp_sentence = start_token + tokenizer_pt.encode(inp_sentence) + end_token\n",
    "    encoder_input = tf.expand_dims(inp_sentence, 0)\n",
    "    \n",
    "    # as the target is english, the first word to the transformer should be english start token.\n",
    "    decoder_input = [tokenizer_en.vocab_size]\n",
    "    output = tf.expand_dims(decoder_input, 0)\n",
    "    \n",
    "    for i in range(MAX_LENGTH):\n",
    "        enc_padding_mask, combined_mask, dec_padding_mask = create_mask(encoder_input, output)\n",
    "        \n",
    "        # predictions.shape == [batch_size(1), seq_len, vocab_size]\n",
    "        predictions, attention_weights = transformer(encoder_input,\n",
    "                                                     output,\n",
    "                                                     False,\n",
    "                                                     enc_padding_mask,\n",
    "                                                     combined_mask,\n",
    "                                                     dec_padding_mask)\n",
    "        \n",
    "        # select the last word from the seq_len dimension\n",
    "        predictions = predictions[:, -1:, :] # [batch_size(1), 1, vocab_size]\n",
    "        \n",
    "        prediction_id = tf.cast(tf.argmax(predictions, axis=-1), tf.int32) # [batch_size(1), 1]\n",
    "        \n",
    "        # return the result if the predicted_id is equal to the end token\n",
    "        if prediction_id == tokenizer_en.vocab_size + 1:\n",
    "            return tf.squeeze(output, axis=0), attention_weights\n",
    "        else:\n",
    "            output = tf.concat([output, prediction_id], axis=-1)\n",
    "            \n",
    "    return tf.squeeze(output, axis=0), attention_weights"
   ]
  },
  {
   "cell_type": "code",
   "execution_count": 145,
   "metadata": {},
   "outputs": [],
   "source": [
    "def plot_attention_weights(attention, sentence, result, layer):\n",
    "    fig = plt.figure(figsize=(16, 8))\n",
    "\n",
    "    sentence = tokenizer_pt.encode(sentence)\n",
    "\n",
    "    attention = tf.squeeze(attention[layer], axis=0)\n",
    "\n",
    "    for head in range(attention.shape[0]):\n",
    "        ax = fig.add_subplot(2, 4, head+1)\n",
    "\n",
    "        # plot the attention weights\n",
    "        ax.matshow(attention[head][:-1, :], cmap='viridis')\n",
    "\n",
    "        fontdict = {'fontsize': 10}\n",
    "\n",
    "        ax.set_xticks(range(len(sentence)+2))\n",
    "        ax.set_yticks(range(len(result)))\n",
    "\n",
    "        ax.set_ylim(len(result)-1.5, -0.5)\n",
    "\n",
    "        ax.set_xticklabels(\n",
    "            ['<start>']+[tokenizer_pt.decode([i]) for i in sentence]+['<end>'], \n",
    "            fontdict=fontdict, rotation=90)\n",
    "\n",
    "        ax.set_yticklabels([tokenizer_en.decode([i]) for i in result \n",
    "                            if i < tokenizer_en.vocab_size], \n",
    "                           fontdict=fontdict)\n",
    "\n",
    "        ax.set_xlabel('Head {}'.format(head+1))\n",
    "  \n",
    "    plt.tight_layout()\n",
    "    plt.show()"
   ]
  },
  {
   "cell_type": "code",
   "execution_count": 146,
   "metadata": {},
   "outputs": [],
   "source": [
    "def translate(sentence, plot=''):\n",
    "    result, attention_weights = evaluate(sentence)\n",
    "\n",
    "    predicted_sentence = tokenizer_en.decode([i for i in result \n",
    "                                            if i < tokenizer_en.vocab_size])  \n",
    "\n",
    "    print('Input: {}'.format(sentence))\n",
    "    print('Predicted translation: {}'.format(predicted_sentence))\n",
    "\n",
    "    if plot:\n",
    "        plot_attention_weights(attention_weights, sentence, result, plot)"
   ]
  },
  {
   "cell_type": "code",
   "execution_count": 147,
   "metadata": {},
   "outputs": [
    {
     "name": "stdout",
     "output_type": "stream",
     "text": [
      "Input: este é um problema que temos que resolver.\n",
      "Predicted translation: thank thank \n",
      "Real translation: this is a problem we have to solve .\n"
     ]
    }
   ],
   "source": [
    "translate(\"este é um problema que temos que resolver.\")\n",
    "print (\"Real translation: this is a problem we have to solve .\")"
   ]
  },
  {
   "cell_type": "code",
   "execution_count": 148,
   "metadata": {},
   "outputs": [
    {
     "name": "stdout",
     "output_type": "stream",
     "text": [
      "Input: os meus vizinhos ouviram sobre esta ideia.\n",
      "Predicted translation: thank \n",
      "Real translation: and my neighboring homes heard about this idea .\n"
     ]
    }
   ],
   "source": [
    "translate(\"os meus vizinhos ouviram sobre esta ideia.\")\n",
    "print (\"Real translation: and my neighboring homes heard about this idea .\")"
   ]
  },
  {
   "cell_type": "code",
   "execution_count": 149,
   "metadata": {},
   "outputs": [
    {
     "name": "stdout",
     "output_type": "stream",
     "text": [
      "Input: vou então muito rapidamente partilhar convosco algumas histórias de algumas coisas mágicas que aconteceram.\n",
      "Predicted translation: thank \n",
      "Real translation: so i 'll just share with you some stories very quickly of some magical things that have happened .\n"
     ]
    }
   ],
   "source": [
    "translate(\"vou então muito rapidamente partilhar convosco algumas histórias de algumas coisas mágicas que aconteceram.\")\n",
    "print (\"Real translation: so i 'll just share with you some stories very quickly of some magical things that have happened .\")"
   ]
  },
  {
   "cell_type": "code",
   "execution_count": 150,
   "metadata": {},
   "outputs": [
    {
     "name": "stdout",
     "output_type": "stream",
     "text": [
      "Input: este é o primeiro livro que eu fiz.\n",
      "Predicted translation: thank thank \n"
     ]
    },
    {
     "data": {
      "image/png": "[encoded data removed]",
      "text/plain": [
       "<Figure size 1152x576 with 8 Axes>"
      ]
     },
     "metadata": {
      "needs_background": "light"
     },
     "output_type": "display_data"
    },
    {
     "name": "stdout",
     "output_type": "stream",
     "text": [
      "Real translation: this is the first book i've ever done.\n"
     ]
    }
   ],
   "source": [
    "translate(\"este é o primeiro livro que eu fiz.\", plot='decoder_layer4_block2')\n",
    "print (\"Real translation: this is the first book i've ever done.\")"
   ]
  },
  {
   "cell_type": "code",
   "execution_count": null,
   "metadata": {},
   "outputs": [],
   "source": []
  }
 ],
 "metadata": {
  "kernelspec": {
   "display_name": "Python 3",
   "language": "python",
   "name": "python3"
  },
  "language_info": {
   "codemirror_mode": {
    "name": "ipython",
    "version": 3
   },
   "file_extension": ".py",
   "mimetype": "text/x-python",
   "name": "python",
   "nbconvert_exporter": "python",
   "pygments_lexer": "ipython3",
   "version": "3.7.6"
  }
 },
 "nbformat": 4,
 "nbformat_minor": 4
}
