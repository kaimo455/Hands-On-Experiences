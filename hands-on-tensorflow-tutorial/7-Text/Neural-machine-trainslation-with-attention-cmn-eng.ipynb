{
 "cells": [
  {
   "cell_type": "code",
   "execution_count": 1,
   "metadata": {},
   "outputs": [],
   "source": [
    "import tensorflow as tf\n",
    "import tensorflow_datasets as tfds\n",
    "\n",
    "import io\n",
    "import re\n",
    "import time\n",
    "import jieba\n",
    "import pathlib\n",
    "import unicodedata\n",
    "\n",
    "from sklearn.model_selection import train_test_split"
   ]
  },
  {
   "cell_type": "markdown",
   "metadata": {},
   "source": [
    "## Download and prepare the dataset"
   ]
  },
  {
   "cell_type": "code",
   "execution_count": 2,
   "metadata": {},
   "outputs": [],
   "source": [
    "path_to_file = '/home/kaimo/.keras/datasets/cmn-eng/cmn.txt'"
   ]
  },
  {
   "cell_type": "code",
   "execution_count": 3,
   "metadata": {},
   "outputs": [
    {
     "name": "stdout",
     "output_type": "stream",
     "text": [
      "Hi.\t嗨。\tCC-BY 2.0 (France) Attribution: tatoeba.org #538123 (CM) & #891077 (Martha)\r\n",
      "Hi.\t你好。\tCC-BY 2.0 (France) Attribution: tatoeba.org #538123 (CM) & #4857568 (musclegirlxyp)\r\n",
      "Run.\t你用跑的。\tCC-BY 2.0 (France) Attribution: tatoeba.org #4008918 (JSakuragi) & #3748344 (egg0073)\r\n",
      "Wait!\t等等！\tCC-BY 2.0 (France) Attribution: tatoeba.org #1744314 (belgavox) & #4970122 (wzhd)\r\n",
      "Wait!\t等一下！\tCC-BY 2.0 (France) Attribution: tatoeba.org #1744314 (belgavox) & #5092613 (mirrorvan)\r\n",
      "Hello!\t你好。\tCC-BY 2.0 (France) Attribution: tatoeba.org #373330 (CK) & #4857568 (musclegirlxyp)\r\n",
      "I try.\t让我来。\tCC-BY 2.0 (France) Attribution: tatoeba.org #20776 (CK) & #5092185 (mirrorvan)\r\n",
      "I won!\t我赢了。\tCC-BY 2.0 (France) Attribution: tatoeba.org #2005192 (CK) & #5102367 (mirrorvan)\r\n",
      "Oh no!\t不会吧。\tCC-BY 2.0 (France) Attribution: tatoeba.org #1299275 (CK) & #5092475 (mirrorvan)\r\n",
      "Cheers!\t乾杯!\tCC-BY 2.0 (France) Attribution: tatoeba.org #487006 (human600) & #765577 (Martha)\r\n"
     ]
    }
   ],
   "source": [
    "!head {path_to_file}"
   ]
  },
  {
   "cell_type": "code",
   "execution_count": 4,
   "metadata": {},
   "outputs": [],
   "source": [
    "# Converts the unicode file to ascii\n",
    "def unicode_to_ascii(s):\n",
    "    return ''.join(c for c in unicodedata.normalize('NFD', s) if unicodedata.category(c) != 'Mn')"
   ]
  },
  {
   "cell_type": "code",
   "execution_count": 5,
   "metadata": {},
   "outputs": [],
   "source": [
    "# preprocess sentence\n",
    "def preprocess_sentence(s, is_chinese):\n",
    "    s = unicode_to_ascii(s.lower().strip())\n",
    "\n",
    "    # creating a space between a word and the punctuation following it\n",
    "    # eg: \"he is a boy.\" => \"he is a boy .\"\n",
    "    # Reference:- https://stackoverflow.com/questions/3645931/python-padding-punctuation-with-white-spaces-keeping-punctuation\n",
    "    s = re.sub(r\"([?.!,¿])\", r\" \\1 \", s) # \"\\1\" represents the first matched group, used here for seperating punctuation\n",
    "    s = re.sub(r'[\" \"]+', \" \", s)\n",
    "\n",
    "#     # replacing everything with space except (a-z, A-Z, \".\", \"?\", \"!\", \",\")\n",
    "#     s = re.sub(r\"[^a-zA-Z?.!,¿]+\", \" \", s)\n",
    "\n",
    "    s = s.strip()\n",
    "    \n",
    "    if is_chinese:\n",
    "        # use jieba chinese tokenizer\n",
    "        s = ' '.join(list(jieba.cut(s, cut_all=False)))\n",
    "\n",
    "    # adding a start and an end token to the sentence\n",
    "    # so that the model know when to start and stop predicting.\n",
    "    s = '<start> ' + s + ' <end>'\n",
    "    return s"
   ]
  },
  {
   "cell_type": "code",
   "execution_count": 6,
   "metadata": {},
   "outputs": [
    {
     "name": "stderr",
     "output_type": "stream",
     "text": [
      "Building prefix dict from the default dictionary ...\n",
      "Loading model from cache /tmp/jieba.cache\n",
      "Loading model cost 0.693 seconds.\n"
     ]
    },
    {
     "name": "stdout",
     "output_type": "stream",
     "text": [
      "<start> may i borrow this book ? <end>\n"
     ]
    },
    {
     "name": "stderr",
     "output_type": "stream",
     "text": [
      "Prefix dict has been built successfully.\n"
     ]
    },
    {
     "name": "stdout",
     "output_type": "stream",
     "text": [
      "b'<start> \\xe4\\xbd\\xa0 \\xe7\\x94\\xa8 \\xe8\\xb7\\x91 \\xe7\\x9a\\x84 \\xe3\\x80\\x82 <end>'\n"
     ]
    }
   ],
   "source": [
    "en_sentence = u\"May I borrow this book?\"\n",
    "cn_sentence = u\"你用跑的。\"\n",
    "print(preprocess_sentence(en_sentence, is_chinese=False))\n",
    "print(preprocess_sentence(cn_sentence, is_chinese=True).encode('utf-8'))"
   ]
  },
  {
   "cell_type": "code",
   "execution_count": 7,
   "metadata": {},
   "outputs": [],
   "source": [
    "# 1. Remove the accents\n",
    "# 2. Clean the sentences\n",
    "# 3. Return word pairs in the format: [ENGLISH, CHINESE]\n",
    "def create_dataset(path, num_examples):\n",
    "    lines = io.open(path, encoding='utf-8').read().strip().split('\\n')\n",
    "    word_pairs = [(preprocess_sentence(l.split('\\t')[0], is_chinese=False),\n",
    "                   preprocess_sentence(l.split('\\t')[1], is_chinese=True))\n",
    "                  for l in lines[:num_examples]]\n",
    "    return zip(*word_pairs)"
   ]
  },
  {
   "cell_type": "code",
   "execution_count": 8,
   "metadata": {},
   "outputs": [],
   "source": [
    "en, cn = create_dataset(path_to_file, None)"
   ]
  },
  {
   "cell_type": "code",
   "execution_count": 9,
   "metadata": {},
   "outputs": [
    {
     "data": {
      "text/plain": [
       "[('<start> hi . <end>', '<start> 嗨 。 <end>'),\n",
       " ('<start> hi . <end>', '<start> 你好 。 <end>'),\n",
       " ('<start> run . <end>', '<start> 你 用 跑 的 。 <end>'),\n",
       " ('<start> wait ! <end>', '<start> 等等 ！ <end>'),\n",
       " ('<start> wait ! <end>', '<start> 等 一下 ！ <end>')]"
      ]
     },
     "execution_count": 9,
     "metadata": {},
     "output_type": "execute_result"
    }
   ],
   "source": [
    "list(zip(en[:5], cn[:5]))"
   ]
  },
  {
   "cell_type": "code",
   "execution_count": 10,
   "metadata": {},
   "outputs": [],
   "source": [
    "def tokenize(texts):\n",
    "    lang_tokenizer = tf.keras.preprocessing.text.Tokenizer(filters='')\n",
    "    lang_tokenizer.fit_on_texts(texts)\n",
    "    \n",
    "    tensor = lang_tokenizer.texts_to_sequences(texts)\n",
    "    # Pad to the longest sequence\n",
    "    tensor = tf.keras.preprocessing.sequence.pad_sequences(tensor, padding='post')\n",
    "    return tensor, lang_tokenizer"
   ]
  },
  {
   "cell_type": "code",
   "execution_count": 11,
   "metadata": {},
   "outputs": [],
   "source": [
    "def load_dataset(path, num_examples=None):\n",
    "    # Creating cleaned input, output pairs\n",
    "    inp_lang, targ_lang = create_dataset(path, num_examples)\n",
    "    \n",
    "    input_tensor, inp_lang_tokenizer = tokenize(inp_lang)\n",
    "    target_tensor, targ_lang_tokenizer = tokenize(targ_lang)\n",
    "    \n",
    "    return input_tensor, target_tensor, inp_lang_tokenizer, targ_lang_tokenizer"
   ]
  },
  {
   "cell_type": "code",
   "execution_count": 12,
   "metadata": {},
   "outputs": [],
   "source": [
    "input_tensor, target_tensor, inp_lang_tokenizer, targ_lang_tokenizer = load_dataset(path_to_file, None)\n",
    "# Calculating max_length of the target & input tensors\n",
    "max_length_targ, max_length_inp = target_tensor.shape[1], input_tensor.shape[1]"
   ]
  },
  {
   "cell_type": "code",
   "execution_count": 13,
   "metadata": {},
   "outputs": [
    {
     "name": "stdout",
     "output_type": "stream",
     "text": [
      "17660 4415 17660 4415\n"
     ]
    }
   ],
   "source": [
    "input_tensor_train, input_tensor_val, target_tensor_train, target_tensor_val = train_test_split(input_tensor, target_tensor, test_size=.2)\n",
    "print(len(input_tensor_train), len(input_tensor_val), len(target_tensor_train), len(target_tensor_val))"
   ]
  },
  {
   "cell_type": "code",
   "execution_count": 16,
   "metadata": {},
   "outputs": [
    {
     "name": "stdout",
     "output_type": "stream",
     "text": [
      "Input Language; index to word mapping\n",
      "1 ----> <start>\n",
      "1309 ----> here's\n",
      "27 ----> your\n",
      "448 ----> tea\n",
      "3 ----> .\n",
      "2 ----> <end>\n",
      "\n",
      "Target Language; index to word mapping\n",
      "1 ----> <start>\n",
      "34 ----> 这\n",
      "11 ----> 是\n",
      "7 ----> 你\n",
      "5 ----> 的\n",
      "567 ----> 茶\n",
      "3 ----> 。\n",
      "2 ----> <end>\n"
     ]
    }
   ],
   "source": [
    "def convert(lang, tensor):\n",
    "    \"\"\"Convert index to word use lang(tokenizer)\"\"\"\n",
    "    for idx in tensor:\n",
    "        if idx != 0:\n",
    "            print(\"{:d} ----> {:s}\".format(idx, lang.index_word[idx]))\n",
    "\n",
    "print (\"Input Language; index to word mapping\")\n",
    "convert(inp_lang_tokenizer, input_tensor_train[0])\n",
    "print ()\n",
    "print (\"Target Language; index to word mapping\")\n",
    "convert(targ_lang_tokenizer, target_tensor_train[0])"
   ]
  },
  {
   "cell_type": "markdown",
   "metadata": {},
   "source": [
    "### Create a tf.data dataset"
   ]
  },
  {
   "cell_type": "code",
   "execution_count": 17,
   "metadata": {},
   "outputs": [],
   "source": [
    "BUFFER_SIZE = len(input_tensor_train)\n",
    "BATCH_SIZE = 64\n",
    "steps_per_epoch = len(input_tensor_train) // BATCH_SIZE\n",
    "embedding_dim = 256\n",
    "units = 1024\n",
    "vocab_inp_size = len(inp_lang_tokenizer.word_index) + 1 # +1 for padding 0\n",
    "vocab_targ_size = len(targ_lang_tokenizer.word_index) + 1\n",
    "\n",
    "dataset = (\n",
    "    tf.data.Dataset.from_tensor_slices((input_tensor_train, target_tensor_train))\n",
    "    .shuffle(BUFFER_SIZE)\n",
    "    .batch(BATCH_SIZE, drop_remainder=True)\n",
    ")"
   ]
  },
  {
   "cell_type": "code",
   "execution_count": 18,
   "metadata": {},
   "outputs": [
    {
     "name": "stdout",
     "output_type": "stream",
     "text": [
      "(64, 36) (64, 32)\n"
     ]
    }
   ],
   "source": [
    "for i in dataset.take(1):\n",
    "    print(i[0].shape, i[1].shape)"
   ]
  },
  {
   "cell_type": "markdown",
   "metadata": {},
   "source": [
    "## Write the encoder and decoder model"
   ]
  },
  {
   "cell_type": "code",
   "execution_count": 19,
   "metadata": {},
   "outputs": [],
   "source": [
    "class Encoder(tf.keras.Model):\n",
    "    def __init__(self, vocab_size, embedding_dim, enc_units, batch_size, **kwargs):\n",
    "        super(Encoder, self).__init__(**kwargs)\n",
    "        self.batch_size = batch_size\n",
    "        self.enc_units = enc_units\n",
    "        self.embedding = tf.keras.layers.Embedding(vocab_size, embedding_dim)\n",
    "        self.gru = tf.keras.layers.GRU(\n",
    "            self.enc_units,\n",
    "            return_sequences=True,\n",
    "            return_state=True, # Whether to return the last state in addition to the output.\n",
    "            recurrent_initializer='glorot_uniform'\n",
    "        )\n",
    "        \n",
    "    def call(self, x, initial_state):\n",
    "        x = self.embedding(x)\n",
    "        output, state = self.gru(x, initial_state=initial_state)\n",
    "        return output, state\n",
    "    \n",
    "    def initialize_hidden_state(self):\n",
    "        return tf.zeros(shape=(self.batch_size, self.enc_units))"
   ]
  },
  {
   "cell_type": "code",
   "execution_count": 20,
   "metadata": {},
   "outputs": [],
   "source": [
    "encoder = Encoder(vocab_inp_size, embedding_dim, units, BATCH_SIZE)"
   ]
  },
  {
   "cell_type": "code",
   "execution_count": 21,
   "metadata": {},
   "outputs": [
    {
     "name": "stdout",
     "output_type": "stream",
     "text": [
      "Encoder output shape: (batch size, sequence length, units) (64, 36, 1024)\n",
      "Encoder Hidden state shape: (batch size, units) (64, 1024)\n"
     ]
    }
   ],
   "source": [
    "# Sample input\n",
    "sample_hidden = encoder.initialize_hidden_state()\n",
    "for i in dataset.take(1):\n",
    "    sample_input_batch, _ = i\n",
    "    sample_output, sample_hidden_state = encoder(sample_input_batch, sample_hidden)\n",
    "\n",
    "print ('Encoder output shape: (batch size, sequence length, units) {}'.format(sample_output.shape))\n",
    "print ('Encoder Hidden state shape: (batch size, units) {}'.format(sample_hidden.shape))\n",
    "\n",
    "# Hidden state is the last output of returned sequence tensors\n",
    "# sample_output[:, -1, :] == sample_hidden_state"
   ]
  },
  {
   "cell_type": "markdown",
   "metadata": {},
   "source": [
    "This tutorial use __Bahdanau attention__ for the encoder.\n",
    "\n",
    "- FC = Full connected (dense) layer\n",
    "- EO = Encoder output (key & value)\n",
    "- H = Hidden state (query)\n",
    "- X = input to the decoder"
   ]
  },
  {
   "cell_type": "markdown",
   "metadata": {},
   "source": [
    "And the pseudo-code:\n",
    "\n",
    "- `score = FC(tanh(FC(EO) + FC(H)))`\n",
    "- `attention weights = softmax(score, axis = 1)`. Softmax by default is applied on the last axis but here we want to apply it on the 1st axis, since the shape of score is (batch_size, max_length, hidden_size). Max_length is the length of our input. Since we are trying to assign a weight to each input, softmax should be applied on that axis.\n",
    "- `context vector = sum(attention weights * EO, axis = 1)`. Same reason as above for choosing axis as 1.\n",
    "- `embedding output` = The input to the decoder X is passed through an embedding layer.\n",
    "- `merged vector` = concat(embedding output, context vector)\n",
    "- This merged vector is then given to the GRU"
   ]
  },
  {
   "cell_type": "code",
   "execution_count": 22,
   "metadata": {},
   "outputs": [],
   "source": [
    "class BahdanauAttention(tf.keras.layers.Layer):\n",
    "    def __init__(self, units, **kwargs):\n",
    "        super(BahdanauAttention, self).__init__(**kwargs)\n",
    "        self.W1 = tf.keras.layers.Dense(units)\n",
    "        self.W2 = tf.keras.layers.Dense(units)\n",
    "        self.V = tf.keras.layers.Dense(1)\n",
    "        \n",
    "    def call(self, query, values):\n",
    "        # `query` hidden state shape == [BATCH_SIZE, hidden_size], from Decoder's one timestep hidden state\n",
    "        # `query_with_time_axis` shape == [BATCH_SIZE, 1, hidden_size]\n",
    "        # values shape == [BATCH_SIZE, max_len, hidden state], from Encoder's returned sequence hidden states\n",
    "        # we are doing this to broadcast addition along the time axis to calculate the score\n",
    "        query_with_time_axis = tf.expand_dims(query, 1)\n",
    "        \n",
    "        # score shape == [BATCH_SIZE, max_length, 1]\n",
    "        # we get 1 at the last axis because we are applying score to self.V\n",
    "        # the shape of the tensor before applying self.V is [BATCH_SIZE, max_length, units]\n",
    "        _FC_H = self.W1(query_with_time_axis) # FC_H of shape [BATCH_SIZE, 1, units]\n",
    "        _FC_EO = self.W2(values) # FC_EO of shape[BATCH_SIZE, max_length, units]\n",
    "        _tanh = tf.nn.tanh(_FC_H + _FC_EO) # _tanh of shape [BATCH_SIZE, max_length, units]\n",
    "        score = self.V(_tanh) # score of shape [BATCH_SIZE, max_length, 1]\n",
    "        \n",
    "        # attension_weights shape == [BACH_SIZE, max_length, 1]\n",
    "        attention_weights = tf.nn.softmax(score, axis=1) # apply on time dimension\n",
    "        \n",
    "        # context_vector shape after sum == [BATCH_SIZE, hidden_size]\n",
    "        context_vector = attention_weights * values # of shape [BATCH_SIZE, max_length, hidden_size]\n",
    "        context_vector = tf.reduce_sum(context_vector, axis=1)\n",
    "        \n",
    "        return context_vector, attention_weights"
   ]
  },
  {
   "cell_type": "code",
   "execution_count": 23,
   "metadata": {},
   "outputs": [
    {
     "name": "stdout",
     "output_type": "stream",
     "text": [
      "Attention result shape: (batch size, units) (64, 1024)\n",
      "Attention weights shape: (batch_size, sequence_length, 1) (64, 36, 1)\n"
     ]
    }
   ],
   "source": [
    "attention_layer = BahdanauAttention(10)\n",
    "attention_result, attention_weights = attention_layer(sample_hidden, sample_output)\n",
    "\n",
    "print(\"Attention result shape: (batch size, units) {}\".format(attention_result.shape))\n",
    "print(\"Attention weights shape: (batch_size, sequence_length, 1) {}\".format(attention_weights.shape))"
   ]
  },
  {
   "cell_type": "code",
   "execution_count": 28,
   "metadata": {},
   "outputs": [],
   "source": [
    "class Decoder(tf.keras.Model):\n",
    "    def __init__(self, vocab_size, embedding_dim, dec_units, batch_size, **kwargs):\n",
    "        super(Decoder, self).__init__(**kwargs)\n",
    "        self.batch_size = batch_size\n",
    "        self.dec_units = dec_units\n",
    "        self.embedding = tf.keras.layers.Embedding(vocab_size, embedding_dim)\n",
    "        self.gru = tf.keras.layers.GRU(\n",
    "            self.dec_units,\n",
    "            return_sequences=True,\n",
    "            return_state=True,\n",
    "            recurrent_initializer='glorot_uniform'\n",
    "        )\n",
    "        self.fc = tf.keras.layers.Dense(vocab_size)\n",
    "        \n",
    "        # used for attention\n",
    "        self.attention = BahdanauAttention(1000) # 1000 is attention fc layer units size\n",
    "        \n",
    "    def call(self, x, dec_hidden, enc_output):\n",
    "        \"\"\"Call function for decoder.\n",
    "        Args:\n",
    "            x: decoder input, of shape [BATCH_SIZE, 1], every time only feed one word\n",
    "            dec_hidden: decoder's hidden state, of shape [BATCH_SIZE, dec_hidden_size]\n",
    "            enc_outputs: encoder's output sequence states, of shape [BATCH_SIZE, max_length, enc_hidden_size]\n",
    "        \"\"\"\n",
    "        # enc_output shape == [BATCH_SIZE, max_length, hidden_size]\n",
    "        # the attention use previous decoder's hidden state as query\n",
    "        context_vector, attention_weights = self.attention(query=dec_hidden, values=enc_output)\n",
    "\n",
    "        # x shape after passing through embedding == [BATCH_SIZE, 1, embedding_dim]\n",
    "        x = self.embedding(x)\n",
    "        \n",
    "        # x shape after concattenation == [BATCH_SIZE, 1, hidden_size + embedding_dim] (hidden_size of Encoder)\n",
    "        x = tf.concat([tf.expand_dims(context_vector, axis=1), x], axis=-1)\n",
    "\n",
    "        # passing the concatenated vector to the GRU\n",
    "        output, dec_hidden = self.gru(x)\n",
    "        \n",
    "        # output shape == [BATCH_SIZE * 1, hidden_size]\n",
    "        output = tf.reshape(output, (-1, output.shape[2]))\n",
    "        \n",
    "        # output shape == [BATCH_SIZE, vocab]\n",
    "        x = self.fc(output)\n",
    "        \n",
    "        return x, dec_hidden, attention_weights"
   ]
  },
  {
   "cell_type": "code",
   "execution_count": 29,
   "metadata": {},
   "outputs": [],
   "source": [
    "decoder = Decoder(vocab_targ_size, embedding_dim, units, BATCH_SIZE)"
   ]
  },
  {
   "cell_type": "code",
   "execution_count": 30,
   "metadata": {},
   "outputs": [
    {
     "name": "stdout",
     "output_type": "stream",
     "text": [
      "Decoder output shape: (bach_size, vocab_size) (64, 14055)\n"
     ]
    }
   ],
   "source": [
    "sample_decoder_output, _, _ = decoder(tf.random.uniform((BATCH_SIZE, 1)), sample_hidden, sample_output)\n",
    "\n",
    "print('Decoder output shape: (bach_size, vocab_size) {}'.format(sample_decoder_output.shape))"
   ]
  },
  {
   "cell_type": "markdown",
   "metadata": {},
   "source": [
    "## Define the optimizer and loss function"
   ]
  },
  {
   "cell_type": "code",
   "execution_count": 31,
   "metadata": {},
   "outputs": [],
   "source": [
    "optimizer = tf.keras.optimizers.Adam()\n",
    "loss_object = tf.keras.losses.SparseCategoricalCrossentropy(from_logits=True, reduction='none')\n",
    "\n",
    "def loss_function(real, pred):\n",
    "    \"\"\"Calculate loss.\n",
    "    Args:\n",
    "        real: ground true, of shape [BATCH_SIZE,]\n",
    "        pred: predictions, of shape [BATCH_SIZE, vocab_size]\n",
    "        \n",
    "    Returns:\n",
    "        A scalar mean loss on batch_size\n",
    "    \"\"\"\n",
    "    \n",
    "    loss_ = loss_object(real, pred) # of shape [BATCH_SIZE,]\n",
    "    # exclude the 0 padding\n",
    "    mask = tf.cast(tf.math.not_equal(real, 0), loss_.dtype)\n",
    "    loss_ *= mask\n",
    "    \n",
    "    return tf.reduce_mean(loss_)"
   ]
  },
  {
   "cell_type": "markdown",
   "metadata": {},
   "source": [
    "## Checkpoints(Object-based saving)"
   ]
  },
  {
   "cell_type": "code",
   "execution_count": 32,
   "metadata": {},
   "outputs": [],
   "source": [
    "checkpoint_dir = pathlib.Path('./training_checkpoints')\n",
    "checkpoint_prefix = checkpoint_dir/'ckpt'\n",
    "checkpoint = tf.train.Checkpoint(optimizer=optimizer, encoder=encoder, decoder=decoder)"
   ]
  },
  {
   "cell_type": "markdown",
   "metadata": {},
   "source": [
    "## Training"
   ]
  },
  {
   "cell_type": "markdown",
   "metadata": {},
   "source": [
    "- Pass the `input` through the `encoder` which return `encoder output` and the `encoder hidden state`.\n",
    "- The `encoder output`, `encoder hidden state` and the `decoder input` (which is the start token) is passed to the `decoder`.\n",
    "- The decoder returns the `predictions` and the `decoder hidden state`.\n",
    "- The `decoder hidden state` is then passed back into the model and the predictions are used to calculate the loss.\n",
    "- Use `teacher forcing` to decide the next input to the decoder.\n",
    "- `Teacher forcing` is the technique where the target word is passed as the next input to the decoder.\n",
    "- The final step is to calculate the gradients and apply it to the optimizer and backpropagate."
   ]
  },
  {
   "cell_type": "code",
   "execution_count": 33,
   "metadata": {},
   "outputs": [],
   "source": [
    "@tf.function\n",
    "def train_step(inp, targ, initial_enc_hidden):\n",
    "    loss = 0\n",
    "    \n",
    "    with tf.GradientTape() as tape:\n",
    "        enc_output, enc_hidden = encoder(inp, initial_state=initial_enc_hidden)\n",
    "        \n",
    "        dec_hidden = enc_hidden\n",
    "        \n",
    "        dec_input = targ[:, :1] # the <start>\n",
    "        \n",
    "        # Teacher forcing - feeding the target as the next input\n",
    "        for t in range(1, targ.shape[1]):\n",
    "            # passing enc_output to the decoder\n",
    "            # `dec_hidden` is query\n",
    "            # `enc_output` is key & values\n",
    "            predictions, dec_hidden, _ = decoder(dec_input, dec_hidden=dec_hidden, enc_output=enc_output)\n",
    "            \n",
    "            # accumulate loss along time dimension\n",
    "            loss += loss_function(targ[:, t], predictions)\n",
    "            \n",
    "            # using teacher forcing\n",
    "            dec_input = tf.expand_dims(targ[:, t], 1)\n",
    "\n",
    "    batch_loss = (loss / int(targ.shape[1]))\n",
    "\n",
    "    trainable_variables = encoder.trainable_variables + decoder.trainable_variables\n",
    "\n",
    "    gradients = tape.gradient(loss, trainable_variables)\n",
    "    \n",
    "    optimizer.apply_gradients(zip(gradients, trainable_variables))\n",
    "    \n",
    "    return batch_loss"
   ]
  },
  {
   "cell_type": "code",
   "execution_count": 64,
   "metadata": {
    "scrolled": false
   },
   "outputs": [
    {
     "name": "stdout",
     "output_type": "stream",
     "text": [
      "Epoch  1 Batch    0 Loss 0.0281\n",
      "Epoch  1 Batch  100 Loss 0.0437\n",
      "Epoch  1 Batch  200 Loss 0.0342\n",
      "Epoch  1 Loss 0.0320\n",
      "Time taken for 1 epoch 96.35619068145752 sec\n",
      "\n",
      "Epoch  2 Batch    0 Loss 0.0304\n",
      "Epoch  2 Batch  100 Loss 0.0194\n",
      "Epoch  2 Batch  200 Loss 0.0292\n",
      "Epoch  2 Loss 0.0276\n",
      "Time taken for 1 epoch 95.85135221481323 sec\n",
      "\n",
      "Epoch  3 Batch    0 Loss 0.0181\n",
      "Epoch  3 Batch  100 Loss 0.0203\n",
      "Epoch  3 Batch  200 Loss 0.0164\n",
      "Epoch  3 Loss 0.0231\n",
      "Time taken for 1 epoch 95.17944645881653 sec\n",
      "\n",
      "Epoch  4 Batch    0 Loss 0.0156\n",
      "Epoch  4 Batch  100 Loss 0.0187\n",
      "Epoch  4 Batch  200 Loss 0.0268\n",
      "Epoch  4 Loss 0.0209\n",
      "Time taken for 1 epoch 95.95512795448303 sec\n",
      "\n",
      "Epoch  5 Batch    0 Loss 0.0162\n",
      "Epoch  5 Batch  100 Loss 0.0217\n",
      "Epoch  5 Batch  200 Loss 0.0264\n",
      "Epoch  5 Loss 0.0220\n",
      "Time taken for 1 epoch 95.03727841377258 sec\n",
      "\n",
      "Epoch  6 Batch    0 Loss 0.0221\n",
      "Epoch  6 Batch  100 Loss 0.0241\n",
      "Epoch  6 Batch  200 Loss 0.0253\n",
      "Epoch  6 Loss 0.0226\n",
      "Time taken for 1 epoch 95.93273735046387 sec\n",
      "\n",
      "Epoch  7 Batch    0 Loss 0.0181\n",
      "Epoch  7 Batch  100 Loss 0.0168\n",
      "Epoch  7 Batch  200 Loss 0.0171\n",
      "Epoch  7 Loss 0.0195\n",
      "Time taken for 1 epoch 95.09082961082458 sec\n",
      "\n",
      "Epoch  8 Batch    0 Loss 0.0171\n",
      "Epoch  8 Batch  100 Loss 0.0152\n",
      "Epoch  8 Batch  200 Loss 0.0125\n",
      "Epoch  8 Loss 0.0171\n",
      "Time taken for 1 epoch 95.61004590988159 sec\n",
      "\n",
      "Epoch  9 Batch    0 Loss 0.0140\n",
      "Epoch  9 Batch  100 Loss 0.0174\n",
      "Epoch  9 Batch  200 Loss 0.0201\n",
      "Epoch  9 Loss 0.0159\n",
      "Time taken for 1 epoch 95.3895492553711 sec\n",
      "\n",
      "Epoch 10 Batch    0 Loss 0.0205\n",
      "Epoch 10 Batch  100 Loss 0.0134\n",
      "Epoch 10 Batch  200 Loss 0.0184\n",
      "Epoch 10 Loss 0.0145\n",
      "Time taken for 1 epoch 95.70176792144775 sec\n",
      "\n"
     ]
    }
   ],
   "source": [
    "EPOCHS = 10\n",
    "for epoch in range(EPOCHS):\n",
    "    start_time = time.time()\n",
    "    \n",
    "    initial_enc_hidden = encoder.initialize_hidden_state()\n",
    "    total_loss = 0\n",
    "    \n",
    "    for (batch_idx, (inp, targ)) in enumerate(dataset.take(steps_per_epoch)):\n",
    "        batch_loss = train_step(inp, targ, initial_enc_hidden)\n",
    "        total_loss += batch_loss\n",
    "        \n",
    "        if batch_idx % 100 == 0:\n",
    "            print('Epoch {:2d} Batch {:4d} Loss {:.4f}'.format(epoch+1, batch_idx, batch_loss.numpy()))\n",
    "            \n",
    "    if (epoch + 1) % 2 == 0:\n",
    "        checkpoint.save(file_prefix=str(checkpoint_prefix))\n",
    "        \n",
    "    print('Epoch {:2d} Loss {:.4f}'.format(epoch+1, total_loss/steps_per_epoch))\n",
    "    print('Time taken for 1 epoch {} sec\\n'.format(time.time() - start_time))"
   ]
  },
  {
   "cell_type": "markdown",
   "metadata": {},
   "source": [
    "## Translate"
   ]
  },
  {
   "cell_type": "code",
   "execution_count": 65,
   "metadata": {},
   "outputs": [],
   "source": [
    "import numpy as np\n",
    "\n",
    "def evaluate(sentence):\n",
    "    attention_plot = np.zeros((max_length_targ, max_length_inp))\n",
    "    \n",
    "    sentence = preprocess_sentence(sentence, is_chinese=False)\n",
    "    \n",
    "    inputs = inp_lang_tokenizer.texts_to_sequences([sentence])[0]\n",
    "    inputs = tf.keras.preprocessing.sequence.pad_sequences([inputs], maxlen=max_length_inp, padding='post')\n",
    "    \n",
    "    inputs = tf.convert_to_tensor(inputs)\n",
    "    \n",
    "    result = ''\n",
    "    \n",
    "    initial_hidden_state = [tf.zeros((1, units))]\n",
    "    enc_out, enc_hidden_state = encoder(inputs, initial_hidden_state)\n",
    "    \n",
    "    dec_hidden_state = enc_hidden_state\n",
    "    dec_input = tf.expand_dims([targ_lang_tokenizer.word_index['<start>']], 0)\n",
    "    \n",
    "    for t in range(max_length_targ):\n",
    "        predictions, dec_hidden_state, attention_weights = decoder(dec_input, dec_hidden_state, enc_out)\n",
    "        \n",
    "        # storing the attention weights to plot later on\n",
    "        # before `reshape`: of shape [BATCH_SIZE(1), max_length_inp, 1]\n",
    "        # after `reshape`: of shape [max_length_inp,]\n",
    "        attention_weights = tf.reshape(attention_weights, (-1, ))\n",
    "        attention_plot[t] = attention_weights.numpy()\n",
    "        \n",
    "        prediction_id = tf.argmax(predictions[0]).numpy()\n",
    "        \n",
    "        result += targ_lang_tokenizer.index_word[prediction_id] + ' '\n",
    "        \n",
    "        # reach the end of sentence\n",
    "        if targ_lang_tokenizer.index_word[prediction_id] == '<end>':\n",
    "            return result, sentence, attention_plot\n",
    "        else:\n",
    "            dec_input = tf.expand_dims([prediction_id], 0)\n",
    "    return result, sentence, attention_plot"
   ]
  },
  {
   "cell_type": "code",
   "execution_count": 66,
   "metadata": {},
   "outputs": [],
   "source": [
    "import matplotlib.pyplot as plt\n",
    "import matplotlib.ticker as ticker\n",
    "\n",
    "# function for plotting the attention weights\n",
    "def plot_attention(attention, sentence, predicted_sentence):\n",
    "    fig = plt.figure(figsize=(10, 10))\n",
    "    ax = fig.add_subplot(1, 1, 1)\n",
    "    ax.matshow(attention, cmap='viridis')\n",
    "    \n",
    "    fontdict = {'fontsize': 14}\n",
    "    \n",
    "    ax.set_xticklabels([''] + sentence, fontdict=fontdict, rotation=90)\n",
    "    ax.set_yticklabels([''] + predicted_sentence, fontdict=fontdict)\n",
    "    \n",
    "    ax.xaxis.set_major_locator(ticker.MultipleLocator(1))\n",
    "    ax.yaxis.set_major_locator(ticker.MultipleLocator(1))\n",
    "    \n",
    "    plt.show()"
   ]
  },
  {
   "cell_type": "code",
   "execution_count": 67,
   "metadata": {},
   "outputs": [],
   "source": [
    "def translate(sentence):\n",
    "    result, sentence, attention_plot = evaluate(sentence)\n",
    "    \n",
    "    print('Input: {:s}'.format(sentence))\n",
    "    print('Predicted translation: {:s}'.format(result))\n",
    "    \n",
    "    attention_plot = attention_plot[:len(result.split(' ')), :len(sentence.split(' '))]\n",
    "    plot_attention(attention_plot, sentence.split(' '), result.split(' '))"
   ]
  },
  {
   "cell_type": "code",
   "execution_count": 68,
   "metadata": {},
   "outputs": [],
   "source": [
    "result, sentence, attention_plot = evaluate('how are you ?')"
   ]
  },
  {
   "cell_type": "code",
   "execution_count": 73,
   "metadata": {
    "scrolled": false
   },
   "outputs": [
    {
     "name": "stdout",
     "output_type": "stream",
     "text": [
      "Input: <start> i miss you <end>\n",
      "Predicted translation: 我 如此 见 。 <end> \n"
     ]
    },
    {
     "name": "stderr",
     "output_type": "stream",
     "text": [
      "/opt/conda/lib/python3.7/site-packages/matplotlib/backends/backend_agg.py:214: RuntimeWarning: Glyph 22914 missing from current font.\n",
      "  font.set_text(s, 0.0, flags=flags)\n",
      "/opt/conda/lib/python3.7/site-packages/matplotlib/backends/backend_agg.py:214: RuntimeWarning: Glyph 27492 missing from current font.\n",
      "  font.set_text(s, 0.0, flags=flags)\n",
      "/opt/conda/lib/python3.7/site-packages/matplotlib/backends/backend_agg.py:214: RuntimeWarning: Glyph 35265 missing from current font.\n",
      "  font.set_text(s, 0.0, flags=flags)\n",
      "/opt/conda/lib/python3.7/site-packages/matplotlib/backends/backend_agg.py:183: RuntimeWarning: Glyph 22914 missing from current font.\n",
      "  font.set_text(s, 0, flags=flags)\n",
      "/opt/conda/lib/python3.7/site-packages/matplotlib/backends/backend_agg.py:183: RuntimeWarning: Glyph 27492 missing from current font.\n",
      "  font.set_text(s, 0, flags=flags)\n",
      "/opt/conda/lib/python3.7/site-packages/matplotlib/backends/backend_agg.py:183: RuntimeWarning: Glyph 35265 missing from current font.\n",
      "  font.set_text(s, 0, flags=flags)\n"
     ]
    },
    {
     "data": {
      "image/png": "[encoded data removed]",
      "text/plain": [
       "<Figure size 720x720 with 1 Axes>"
      ]
     },
     "metadata": {
      "needs_background": "light"
     },
     "output_type": "display_data"
    }
   ],
   "source": [
    "translate('I miss you')"
   ]
  },
  {
   "cell_type": "markdown",
   "metadata": {},
   "source": [
    "## Restore the latest checkpoint and test"
   ]
  },
  {
   "cell_type": "code",
   "execution_count": 192,
   "metadata": {},
   "outputs": [
    {
     "data": {
      "text/plain": [
       "<tensorflow.python.training.tracking.util.CheckpointLoadStatus at 0x7f436d201950>"
      ]
     },
     "execution_count": 192,
     "metadata": {},
     "output_type": "execute_result"
    }
   ],
   "source": [
    "# restoring the lastest checkpoint in checkpoint_dir.\n",
    "# remind that `checkpoint = tf.train.Checkpoint(optimizer=optimizer, encoder=encoder, decoder=decoder)`\n",
    "# after restoring, the optimzier, encoder and decoder are update to latest checkpoint values.\n",
    "checkpoint.restore(tf.train.latest_checkpoint(checkpoint_dir))"
   ]
  }
 ],
 "metadata": {
  "kernelspec": {
   "display_name": "Python 3",
   "language": "python",
   "name": "python3"
  },
  "language_info": {
   "codemirror_mode": {
    "name": "ipython",
    "version": 3
   },
   "file_extension": ".py",
   "mimetype": "text/x-python",
   "name": "python",
   "nbconvert_exporter": "python",
   "pygments_lexer": "ipython3",
   "version": "3.7.6"
  }
 },
 "nbformat": 4,
 "nbformat_minor": 4
}
