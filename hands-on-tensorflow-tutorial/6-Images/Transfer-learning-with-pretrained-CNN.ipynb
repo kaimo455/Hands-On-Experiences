{
 "cells": [
  {
   "cell_type": "code",
   "execution_count": 2,
   "metadata": {},
   "outputs": [],
   "source": [
    "import tensorflow as tf\n",
    "import tensorflow_datasets as tfds"
   ]
  },
  {
   "cell_type": "markdown",
   "metadata": {},
   "source": [
    "## Data preprocessing"
   ]
  },
  {
   "cell_type": "code",
   "execution_count": 5,
   "metadata": {},
   "outputs": [],
   "source": [
    "tfds.disable_progress_bar()\n",
    "\n",
    "(raw_train, raw_validation, raw_test), metadata = tfds.load(\n",
    "    name='cats_vs_dogs',\n",
    "    split=['train[:80%]', 'train[80%:90%]', 'train[90%:]'],\n",
    "    with_info=True,\n",
    "    as_supervised=True\n",
    ")"
   ]
  },
  {
   "cell_type": "markdown",
   "metadata": {},
   "source": [
    "### Format the Data"
   ]
  },
  {
   "cell_type": "code",
   "execution_count": 17,
   "metadata": {},
   "outputs": [],
   "source": [
    "IMG_HEIGHT = 160\n",
    "IMG_WIDTH = 160\n",
    "\n",
    "def format_example(image, label):\n",
    "    image = tf.cast(image, tf.float32)\n",
    "    image = (image / 127.5) - 1\n",
    "    image = tf.image.resize(image, (IMG_HEIGHT, IMG_WIDTH))\n",
    "    return image, label"
   ]
  },
  {
   "cell_type": "code",
   "execution_count": 19,
   "metadata": {},
   "outputs": [],
   "source": [
    "train = raw_train.map(format_example)\n",
    "validation = raw_validation.map(format_example)\n",
    "test = raw_test.map(format_example)"
   ]
  },
  {
   "cell_type": "code",
   "execution_count": 20,
   "metadata": {},
   "outputs": [],
   "source": [
    "# Global setting\n",
    "BATCH_SIZE = 32\n",
    "BUFFER_SIZE = 1000"
   ]
  },
  {
   "cell_type": "code",
   "execution_count": 46,
   "metadata": {},
   "outputs": [],
   "source": [
    "train_batches = train.shuffle(BUFFER_SIZE).batch(BATCH_SIZE)\n",
    "validation_batches = validation.batch(BATCH_SIZE)\n",
    "test_batches = test.batch(BATCH_SIZE)"
   ]
  },
  {
   "cell_type": "markdown",
   "metadata": {},
   "source": [
    "## Create the base model from the pre-trained convnets"
   ]
  },
  {
   "cell_type": "markdown",
   "metadata": {},
   "source": [
    "Create the base model from the `MobileNet V2`"
   ]
  },
  {
   "cell_type": "code",
   "execution_count": 28,
   "metadata": {},
   "outputs": [],
   "source": [
    "IMG_SHAPE = [IMG_HEIGHT, IMG_WIDTH, 3]\n",
    "\n",
    "base_model = tf.keras.applications.MobileNetV2(input_shape=IMG_SHAPE, include_top=False, weights='imagenet')"
   ]
  },
  {
   "cell_type": "markdown",
   "metadata": {},
   "source": [
    "This feature extractor convert each `160 x 160 x 3` image into a  \n",
    "`5 x 5 x 1280` block of features."
   ]
  },
  {
   "cell_type": "code",
   "execution_count": 27,
   "metadata": {},
   "outputs": [
    {
     "data": {
      "text/plain": [
       "(32, 5, 5, 1280)"
      ]
     },
     "execution_count": 27,
     "metadata": {},
     "output_type": "execute_result"
    }
   ],
   "source": [
    "base_model.predict(train_batches.take(1)).shape"
   ]
  },
  {
   "cell_type": "markdown",
   "metadata": {},
   "source": [
    "## Create model"
   ]
  },
  {
   "cell_type": "code",
   "execution_count": 34,
   "metadata": {},
   "outputs": [],
   "source": [
    "# Freeze the convolutional base\n",
    "base_model.trainable = False"
   ]
  },
  {
   "cell_type": "code",
   "execution_count": 82,
   "metadata": {},
   "outputs": [],
   "source": [
    "# Add Gloabl average layer to reduce \n",
    "# `BATCH_SIZE x 5 x 5 x CHANNEL` to `BATCH_SIZE x CHANNEL`\n",
    "# Add Dense layer as classification head\n",
    "model = tf.keras.Sequential([\n",
    "    base_model,\n",
    "    tf.keras.layers.GlobalAvgPool2D(),\n",
    "    tf.keras.layers.Dense(1)\n",
    "])"
   ]
  },
  {
   "cell_type": "code",
   "execution_count": 83,
   "metadata": {},
   "outputs": [],
   "source": [
    "model.compile(\n",
    "    optimizer=tf.keras.optimizers.RMSprop(learning_rate=1e-4),\n",
    "    loss=tf.keras.losses.BinaryCrossentropy(from_logits=True),\n",
    "    metrics=['accuracy']\n",
    ")"
   ]
  },
  {
   "cell_type": "code",
   "execution_count": 86,
   "metadata": {},
   "outputs": [
    {
     "name": "stdout",
     "output_type": "stream",
     "text": [
      "Means that TF does not know `train_batches` cardinality, so it cannot verify the total step of current dataset. Then it cannot know whether to generate a new iterator on the dataset ( Keras uses `(steps_per_epoch is None) or (cardinality == steps_per_epoch)` to dicide whether generate a new iter). So, Keras will not create a new iterator in this case.\n"
     ]
    }
   ],
   "source": [
    "(tf.data.experimental.cardinality(train_batches) == tf.data.experimental.UNKNOWN_CARDINALITY).numpy()\n",
    "print('Means that TF does not know `train_batches` cardinality, so it cannot verify the total step of current dataset. Then it cannot know whether to generate a new iterator on the dataset ( Keras uses `(steps_per_epoch is None) or (cardinality == steps_per_epoch)` to dicide whether generate a new iter). So, Keras will not create a new iterator in this case.')"
   ]
  },
  {
   "cell_type": "code",
   "execution_count": 84,
   "metadata": {},
   "outputs": [
    {
     "name": "stdout",
     "output_type": "stream",
     "text": [
      "Epoch 1/10\n",
      "582/582 [==============================] - 35s 60ms/step - loss: 0.2126 - accuracy: 0.9021 - val_loss: 0.0857 - val_accuracy: 0.9712\n",
      "Epoch 2/10\n",
      "582/582 [==============================] - 33s 56ms/step - loss: 0.0725 - accuracy: 0.9761 - val_loss: 0.0627 - val_accuracy: 0.9781\n",
      "Epoch 3/10\n",
      "582/582 [==============================] - 34s 58ms/step - loss: 0.0578 - accuracy: 0.9805 - val_loss: 0.0554 - val_accuracy: 0.9802\n",
      "Epoch 4/10\n",
      "582/582 [==============================] - 34s 59ms/step - loss: 0.0517 - accuracy: 0.9817 - val_loss: 0.0519 - val_accuracy: 0.9811\n",
      "Epoch 5/10\n",
      "582/582 [==============================] - 34s 59ms/step - loss: 0.0485 - accuracy: 0.9829 - val_loss: 0.0502 - val_accuracy: 0.9819\n",
      "Epoch 6/10\n",
      "582/582 [==============================] - 35s 61ms/step - loss: 0.0462 - accuracy: 0.9833 - val_loss: 0.0489 - val_accuracy: 0.9828\n",
      "Epoch 7/10\n",
      "582/582 [==============================] - 35s 59ms/step - loss: 0.0445 - accuracy: 0.9839 - val_loss: 0.0479 - val_accuracy: 0.9828\n",
      "Epoch 8/10\n",
      "582/582 [==============================] - 33s 58ms/step - loss: 0.0433 - accuracy: 0.9844 - val_loss: 0.0472 - val_accuracy: 0.9837\n",
      "Epoch 9/10\n",
      "582/582 [==============================] - 33s 57ms/step - loss: 0.0422 - accuracy: 0.9850 - val_loss: 0.0467 - val_accuracy: 0.9837\n",
      "Epoch 10/10\n",
      "582/582 [==============================] - 33s 57ms/step - loss: 0.0414 - accuracy: 0.9851 - val_loss: 0.0463 - val_accuracy: 0.9845\n"
     ]
    },
    {
     "data": {
      "text/plain": [
       "<tensorflow.python.keras.callbacks.History at 0x7f0f0dc1b510>"
      ]
     },
     "execution_count": 84,
     "metadata": {},
     "output_type": "execute_result"
    }
   ],
   "source": [
    "# Train model\n",
    "model.fit(\n",
    "    train_batches,\n",
    "    epochs=10,\n",
    "    validation_data=(validation_batches),\n",
    "#     steps_per_epoch=metadata.splits['train'].num_examples*0.8 // BATCH_SIZE\n",
    ")"
   ]
  },
  {
   "cell_type": "markdown",
   "metadata": {},
   "source": [
    "## Fine tuning"
   ]
  },
  {
   "cell_type": "code",
   "execution_count": 87,
   "metadata": {},
   "outputs": [],
   "source": [
    "# Un-freeze the top layers of the model\n",
    "base_model.trainable = True\n",
    "# Fine-tune from this layer onwards\n",
    "# base_model has 155 total layers\n",
    "fine_tune_at = 100\n",
    "for layer in base_model.layers[:fine_tune_at]:\n",
    "    layer.trainable = False"
   ]
  },
  {
   "cell_type": "code",
   "execution_count": 90,
   "metadata": {},
   "outputs": [],
   "source": [
    "model.compile(\n",
    "    optimizer=tf.keras.optimizers.RMSprop(learning_rate=1e-5),\n",
    "    loss=tf.keras.losses.BinaryCrossentropy(from_logits=True),\n",
    "    metrics=['accuracy']\n",
    ")"
   ]
  },
  {
   "cell_type": "code",
   "execution_count": null,
   "metadata": {},
   "outputs": [
    {
     "name": "stdout",
     "output_type": "stream",
     "text": [
      "Epoch 11/20\n",
      "582/582 [==============================] - 39s 68ms/step - loss: 0.1209 - accuracy: 0.9550 - val_loss: 0.0707 - val_accuracy: 0.9802\n",
      "Epoch 12/20\n",
      "582/582 [==============================] - 38s 65ms/step - loss: 0.0672 - accuracy: 0.9738 - val_loss: 0.0517 - val_accuracy: 0.9824\n",
      "Epoch 13/20\n",
      "582/582 [==============================] - 37s 63ms/step - loss: 0.0511 - accuracy: 0.9805 - val_loss: 0.0481 - val_accuracy: 0.9841\n",
      "Epoch 14/20\n",
      "406/582 [===================>..........] - ETA: 10s - loss: 0.0404 - accuracy: 0.9855"
     ]
    }
   ],
   "source": [
    "model.fit(\n",
    "    train_batches,\n",
    "    validation_data=validation_batches,\n",
    "    epochs=20,\n",
    "    initial_epoch=10\n",
    ")"
   ]
  },
  {
   "cell_type": "code",
   "execution_count": null,
   "metadata": {},
   "outputs": [],
   "source": []
  }
 ],
 "metadata": {
  "kernelspec": {
   "display_name": "Python 3",
   "language": "python",
   "name": "python3"
  },
  "language_info": {
   "codemirror_mode": {
    "name": "ipython",
    "version": 3
   },
   "file_extension": ".py",
   "mimetype": "text/x-python",
   "name": "python",
   "nbconvert_exporter": "python",
   "pygments_lexer": "ipython3",
   "version": "3.7.6"
  }
 },
 "nbformat": 4,
 "nbformat_minor": 4
}
